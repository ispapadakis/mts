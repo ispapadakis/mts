{
 "cells": [
  {
   "cell_type": "markdown",
   "metadata": {},
   "source": [
    "<h1 style=\"color: green\">Beijing Air Quality Data (2010-15)</h1>\n",
    "<h1 style=\"font-size:32px;\">MISSING IMPUTATION</h1>\n",
    "\n",
    "<hr>\n",
    "\n",
    "## Table of Contents\n",
    "* [1. Load Raw Data](#loadraw)\n",
    "    * [2.1 Data Transformations](#loadraw_1)\n",
    "* [2. Model Development](#modeldev)\n",
    "    * [2.1 Ramdom Forest](#modeldev_rf)\n",
    "    * [2.2 Lasso-Lars Regression](#modeldev_reg)\n",
    "    * [2.3 Gradient Boosting Regression](#modeldev_gb)\n",
    "* [3. Impute Missing Values](#impute)\n",
    "    * [3.1 Verify Qualitative Behavior of Modeled Dependent Variable](#impute_ver)\n",
    "* [4. Expand Dataset & Redevelop Model](#remodeldev)\n",
    "    * [4.1 Random Forest](#remodeldev_1)\n",
    "    * [4.2 Gradient Boosting Regression](#remodeldev_2)\n",
    "\n",
    "<hr>"
   ]
  },
  {
   "cell_type": "markdown",
   "metadata": {},
   "source": [
    "Use Pandas, Numpy, and sklearn to impute missing Particulate Matter values"
   ]
  },
  {
   "cell_type": "code",
   "execution_count": 83,
   "metadata": {},
   "outputs": [],
   "source": [
    "# Load Modules\n",
    "import pandas as pd\n",
    "import numpy as np\n",
    "%matplotlib inline\n",
    "from datetime import datetime\n",
    "from sklearn.preprocessing import RobustScaler\n",
    "from sklearn.model_selection import KFold\n",
    "from sklearn.ensemble import GradientBoostingRegressor\n",
    "from sklearn.ensemble import RandomForestRegressor\n",
    "from sklearn.metrics import r2_score, mean_squared_log_error\n",
    "from sklearn.linear_model import LassoLars"
   ]
  },
  {
   "cell_type": "markdown",
   "metadata": {},
   "source": [
    "## 1. Load Raw Data<a class=\"anchor\" id=\"loadraw\"></a>"
   ]
  },
  {
   "cell_type": "code",
   "execution_count": 84,
   "metadata": {},
   "outputs": [
    {
     "name": "stdout",
     "output_type": "stream",
     "text": [
      "<class 'pandas.core.frame.DataFrame'>\n",
      "RangeIndex: 43824 entries, 0 to 43823\n",
      "Data columns (total 13 columns):\n",
      "No       43824 non-null int64\n",
      "year     43824 non-null int64\n",
      "month    43824 non-null int64\n",
      "day      43824 non-null int64\n",
      "hour     43824 non-null int64\n",
      "pm2.5    41757 non-null float64\n",
      "DEWP     43824 non-null int64\n",
      "TEMP     43824 non-null float64\n",
      "PRES     43824 non-null float64\n",
      "cbwd     43824 non-null object\n",
      "Iws      43824 non-null float64\n",
      "Is       43824 non-null int64\n",
      "Ir       43824 non-null int64\n",
      "dtypes: float64(4), int64(8), object(1)\n",
      "memory usage: 4.3+ MB\n"
     ]
    }
   ],
   "source": [
    "beijing = pd.read_csv(\"https://raw.githubusercontent.com/jbrownlee/Datasets/master/pollution.csv\")\n",
    "beijing.info()"
   ]
  },
  {
   "cell_type": "code",
   "execution_count": 85,
   "metadata": {},
   "outputs": [],
   "source": [
    "#Dependent Variable\n",
    "target = 'pm2.5'"
   ]
  },
  {
   "cell_type": "code",
   "execution_count": 86,
   "metadata": {},
   "outputs": [],
   "source": [
    "is_target_missing = beijing[target].isnull()"
   ]
  },
  {
   "cell_type": "code",
   "execution_count": 87,
   "metadata": {},
   "outputs": [
    {
     "name": "stdout",
     "output_type": "stream",
     "text": [
      "Total Cases Missing Target Variable: 2067\n"
     ]
    }
   ],
   "source": [
    "print('Total Cases Missing Target Variable: {}'.format(sum(is_target_missing)))"
   ]
  },
  {
   "cell_type": "markdown",
   "metadata": {},
   "source": [
    "### 1.1 Data Transformations<a class=\"anchor\" id=\"loadraw_1\"></a>\n",
    "#### Drop Unwanted"
   ]
  },
  {
   "cell_type": "code",
   "execution_count": 88,
   "metadata": {},
   "outputs": [],
   "source": [
    "dropvars = ['No']"
   ]
  },
  {
   "cell_type": "markdown",
   "metadata": {},
   "source": [
    "#### Convert Categorical to Numeric Using Dummies"
   ]
  },
  {
   "cell_type": "code",
   "execution_count": 89,
   "metadata": {},
   "outputs": [],
   "source": [
    "beijing2 = pd.get_dummies(beijing,columns=['year','month','day','hour','cbwd'], drop_first=True)"
   ]
  },
  {
   "cell_type": "code",
   "execution_count": 90,
   "metadata": {},
   "outputs": [],
   "source": [
    "beijing2.drop(dropvars,axis=1,inplace=True)"
   ]
  },
  {
   "cell_type": "markdown",
   "metadata": {},
   "source": [
    "#### Put Into Numpy Array Format"
   ]
  },
  {
   "cell_type": "code",
   "execution_count": 91,
   "metadata": {},
   "outputs": [],
   "source": [
    "X_pred = beijing2.loc[is_target_missing].drop(target,axis=1).values\n",
    "X_true = beijing2.loc[~is_target_missing].drop(target,axis=1).values"
   ]
  },
  {
   "cell_type": "code",
   "execution_count": 92,
   "metadata": {},
   "outputs": [],
   "source": [
    "y = beijing2.loc[~is_target_missing,target].values.astype('int32')"
   ]
  },
  {
   "cell_type": "markdown",
   "metadata": {},
   "source": [
    "#### Scale Predictors to Improve Estimation Efficiency"
   ]
  },
  {
   "cell_type": "code",
   "execution_count": 93,
   "metadata": {},
   "outputs": [
    {
     "name": "stdout",
     "output_type": "stream",
     "text": [
      "X_true Shape: (41757, 77)\n",
      "X_pred Shape: (2067, 77)\n"
     ]
    }
   ],
   "source": [
    "scaler = RobustScaler()\n",
    "X_true = scaler.fit_transform(X_true)\n",
    "X_pred = scaler.transform(X_pred)\n",
    "print(\"X_true Shape: {}\".format(X_true.shape))\n",
    "print(\"X_pred Shape: {}\".format(X_pred.shape))"
   ]
  },
  {
   "cell_type": "markdown",
   "metadata": {},
   "source": [
    "## 2. Model Development<a class=\"anchor\" id=\"modeldev\"></a>\n",
    "Build Diverse Models and Select Best Fit\n",
    "#### Prepare Cross-Validation Folds"
   ]
  },
  {
   "cell_type": "code",
   "execution_count": 94,
   "metadata": {},
   "outputs": [],
   "source": [
    "cv = KFold(n_splits=5, shuffle=True, random_state=2019)"
   ]
  },
  {
   "cell_type": "markdown",
   "metadata": {},
   "source": [
    "### 2.1 Random Forest<a class=\"anchor\" id=\"modeldev_rf\"></a>"
   ]
  },
  {
   "cell_type": "code",
   "execution_count": 95,
   "metadata": {},
   "outputs": [],
   "source": [
    "rf = RandomForestRegressor(n_estimators=300,max_depth=15,min_samples_leaf=30,random_state=19)"
   ]
  },
  {
   "cell_type": "code",
   "execution_count": 96,
   "metadata": {},
   "outputs": [
    {
     "name": "stdout",
     "output_type": "stream",
     "text": [
      "Time elapsed (hh:mm:ss.ms) 0:02:39.540077\n"
     ]
    }
   ],
   "source": [
    "t0 = datetime.now()\n",
    "\n",
    "oof = np.zeros(y.shape[0])\n",
    "for train, test in cv.split(X_true,y):\n",
    "    rf.fit(X_true[train], y[train])\n",
    "    oof[test] = rf.predict(X_true[test])\n",
    "\n",
    "print('Time elapsed (hh:mm:ss.ms) {}'.format(datetime.now() - t0))"
   ]
  },
  {
   "cell_type": "code",
   "execution_count": 97,
   "metadata": {},
   "outputs": [
    {
     "name": "stdout",
     "output_type": "stream",
     "text": [
      "msle 0.43282 R-square 0.5689\n"
     ]
    }
   ],
   "source": [
    "print(\"msle {:.5f}\".format(mean_squared_log_error(y,oof))+\n",
    "      \" R-square {:.4f}\".format(r2_score(y,oof)))"
   ]
  },
  {
   "cell_type": "markdown",
   "metadata": {},
   "source": [
    "### 2.2 Lasso - Lars Regression<a class=\"anchor\" id=\"modeldev_reg\"></a>\n",
    "Uses Log Transformation of Dependent Variable"
   ]
  },
  {
   "cell_type": "code",
   "execution_count": 98,
   "metadata": {},
   "outputs": [],
   "source": [
    "reg = LassoLars(alpha=0.007,normalize=False,max_iter=100)\n",
    "# Data already normalized\n",
    "# Model often unstable for low alpha"
   ]
  },
  {
   "cell_type": "code",
   "execution_count": 99,
   "metadata": {},
   "outputs": [
    {
     "name": "stdout",
     "output_type": "stream",
     "text": [
      "Time elapsed (hh:mm:ss.ms) 0:00:00.218782\n"
     ]
    }
   ],
   "source": [
    "t0 = datetime.now()\n",
    "\n",
    "oof = np.zeros(y.shape[0])\n",
    "for train, test in cv.split(X_true,y):\n",
    "    reg.fit(X_true[train], np.log1p(y[train]))\n",
    "    oof[test] = np.expm1(reg.predict(X_true[test]))\n",
    "\n",
    "print('Time elapsed (hh:mm:ss.ms) {}'.format(datetime.now() - t0))"
   ]
  },
  {
   "cell_type": "code",
   "execution_count": 100,
   "metadata": {},
   "outputs": [
    {
     "name": "stdout",
     "output_type": "stream",
     "text": [
      "msle 0.54739 R-square 0.2160\n"
     ]
    }
   ],
   "source": [
    "print(\"msle {:.5f}\".format(mean_squared_log_error(y,oof))+\n",
    "      \" R-square {:.4f}\".format(r2_score(y,oof)))"
   ]
  },
  {
   "cell_type": "markdown",
   "metadata": {},
   "source": [
    "#### 2.3 Gradient Boosting Regression<a class=\"anchor\" id=\"modeldev_gb\"></a>\n",
    "BEST FIT (R-square 0.84)"
   ]
  },
  {
   "cell_type": "code",
   "execution_count": 101,
   "metadata": {},
   "outputs": [],
   "source": [
    "gb = GradientBoostingRegressor(n_estimators = 300, max_depth = 15, subsample = 0.7, random_state=2019)"
   ]
  },
  {
   "cell_type": "code",
   "execution_count": 103,
   "metadata": {},
   "outputs": [
    {
     "name": "stdout",
     "output_type": "stream",
     "text": [
      "Time elapsed (hh:mm:ss.ms) 0:37:58.153325\n"
     ]
    }
   ],
   "source": [
    "t0 = datetime.now()\n",
    "\n",
    "oof = np.zeros(y.shape[0])\n",
    "for train, test in cv.split(X_true,y):\n",
    "    gb.fit(X_true[train], y[train])\n",
    "    oof[test] = np.maximum(gb.predict(X_true[test]),0)\n",
    "    #gb.fit(X_true[train], np.log1p(y[train]))\n",
    "    #oof[test] = np.expm1(gb.predict(X_true[test]))\n",
    "\n",
    "print('Time elapsed (hh:mm:ss.ms) {}'.format(datetime.now() - t0))"
   ]
  },
  {
   "cell_type": "code",
   "execution_count": 104,
   "metadata": {},
   "outputs": [
    {
     "name": "stdout",
     "output_type": "stream",
     "text": [
      " R-square 0.8355\n"
     ]
    }
   ],
   "source": [
    "print(#\"msle {:.5f}\".format(mean_squared_log_error(y,oof))+\n",
    "      \" R-square {:.4f}\".format(r2_score(y,oof)))"
   ]
  },
  {
   "cell_type": "markdown",
   "metadata": {},
   "source": [
    "## 3. Impute Missing Values<a class=\"anchor\" id=\"modeldev\"></a>\n",
    "Use best fit (Gradient Boosting Regressor)"
   ]
  },
  {
   "cell_type": "code",
   "execution_count": 105,
   "metadata": {},
   "outputs": [],
   "source": [
    "new_y = np.zeros(beijing.shape[0])\n",
    "new_y[~is_target_missing] = y\n",
    "new_y[is_target_missing] = np.maximum( gb.predict(X_pred) , 0)"
   ]
  },
  {
   "cell_type": "markdown",
   "metadata": {},
   "source": [
    "#### Store Results"
   ]
  },
  {
   "cell_type": "code",
   "execution_count": 106,
   "metadata": {},
   "outputs": [],
   "source": [
    "beijing['model_pm2.5'] = new_y\n",
    "beijing.to_csv(\"beijing.csv\", index=False)"
   ]
  },
  {
   "cell_type": "markdown",
   "metadata": {},
   "source": [
    "### 3.1 Verify Qualitative Behavior of Modeled Dependent Variable<a class=\"anchor\" id=\"impute_ver\"></a>"
   ]
  },
  {
   "cell_type": "code",
   "execution_count": 107,
   "metadata": {},
   "outputs": [
    {
     "data": {
      "text/html": [
       "<div>\n",
       "<style scoped>\n",
       "    .dataframe tbody tr th:only-of-type {\n",
       "        vertical-align: middle;\n",
       "    }\n",
       "\n",
       "    .dataframe tbody tr th {\n",
       "        vertical-align: top;\n",
       "    }\n",
       "\n",
       "    .dataframe thead th {\n",
       "        text-align: right;\n",
       "    }\n",
       "</style>\n",
       "<table border=\"1\" class=\"dataframe\">\n",
       "  <thead>\n",
       "    <tr style=\"text-align: right;\">\n",
       "      <th></th>\n",
       "      <th>pm2.5</th>\n",
       "      <th>model_pm2.5</th>\n",
       "    </tr>\n",
       "  </thead>\n",
       "  <tbody>\n",
       "    <tr>\n",
       "      <th>count</th>\n",
       "      <td>41757.000000</td>\n",
       "      <td>43824.000000</td>\n",
       "    </tr>\n",
       "    <tr>\n",
       "      <th>mean</th>\n",
       "      <td>98.613215</td>\n",
       "      <td>98.358182</td>\n",
       "    </tr>\n",
       "    <tr>\n",
       "      <th>std</th>\n",
       "      <td>92.050387</td>\n",
       "      <td>91.025248</td>\n",
       "    </tr>\n",
       "    <tr>\n",
       "      <th>min</th>\n",
       "      <td>0.000000</td>\n",
       "      <td>0.000000</td>\n",
       "    </tr>\n",
       "    <tr>\n",
       "      <th>25%</th>\n",
       "      <td>29.000000</td>\n",
       "      <td>30.000000</td>\n",
       "    </tr>\n",
       "    <tr>\n",
       "      <th>50%</th>\n",
       "      <td>72.000000</td>\n",
       "      <td>73.000000</td>\n",
       "    </tr>\n",
       "    <tr>\n",
       "      <th>75%</th>\n",
       "      <td>137.000000</td>\n",
       "      <td>136.591427</td>\n",
       "    </tr>\n",
       "    <tr>\n",
       "      <th>max</th>\n",
       "      <td>994.000000</td>\n",
       "      <td>994.000000</td>\n",
       "    </tr>\n",
       "  </tbody>\n",
       "</table>\n",
       "</div>"
      ],
      "text/plain": [
       "              pm2.5   model_pm2.5\n",
       "count  41757.000000  43824.000000\n",
       "mean      98.613215     98.358182\n",
       "std       92.050387     91.025248\n",
       "min        0.000000      0.000000\n",
       "25%       29.000000     30.000000\n",
       "50%       72.000000     73.000000\n",
       "75%      137.000000    136.591427\n",
       "max      994.000000    994.000000"
      ]
     },
     "execution_count": 107,
     "metadata": {},
     "output_type": "execute_result"
    }
   ],
   "source": [
    "beijing[['pm2.5','model_pm2.5']].describe()"
   ]
  },
  {
   "cell_type": "markdown",
   "metadata": {},
   "source": [
    "#### Autocorrelation Before and After Imputation"
   ]
  },
  {
   "cell_type": "code",
   "execution_count": 112,
   "metadata": {},
   "outputs": [
    {
     "data": {
      "image/png": "[encoded data removed]",
      "text/plain": [
       "<matplotlib.figure.Figure at 0x1219f09b0>"
      ]
     },
     "metadata": {},
     "output_type": "display_data"
    }
   ],
   "source": [
    "idx = range(1,30,2)\n",
    "\n",
    "ax = pd.Series([beijing[\"model_pm2.5\"].autocorr(i) for i in idx],index = idx).\\\n",
    "plot(grid=True,label=\"Model pm2.5\",color='r')\n",
    "\n",
    "ax = pd.Series([beijing[\"pm2.5\"].autocorr(i) for i in idx],index = idx).\\\n",
    "plot(grid=True,label=\"Original pm2.5\",color='g',ax=ax)\n",
    "\n",
    "ax = ax.legend()"
   ]
  },
  {
   "cell_type": "markdown",
   "metadata": {},
   "source": [
    "#### Modeled PM Distribution vs Raw PM Distribution by Month and Wind Direction"
   ]
  },
  {
   "cell_type": "code",
   "execution_count": 117,
   "metadata": {},
   "outputs": [
    {
     "data": {
      "text/html": [
       "<style  type=\"text/css\" >\n",
       "    #T_2106c47a_294c_11e9_94b7_a860b638e912row0_col0 {\n",
       "            background-color:  #ece7f2;\n",
       "        }    #T_2106c47a_294c_11e9_94b7_a860b638e912row0_col1 {\n",
       "            background-color:  #fef6fa;\n",
       "        }    #T_2106c47a_294c_11e9_94b7_a860b638e912row0_col2 {\n",
       "            background-color:  #2685bb;\n",
       "        }    #T_2106c47a_294c_11e9_94b7_a860b638e912row0_col3 {\n",
       "            background-color:  #348ebf;\n",
       "        }    #T_2106c47a_294c_11e9_94b7_a860b638e912row0_col4 {\n",
       "            background-color:  #e9e5f1;\n",
       "        }    #T_2106c47a_294c_11e9_94b7_a860b638e912row0_col5 {\n",
       "            background-color:  #fff7fb;\n",
       "        }    #T_2106c47a_294c_11e9_94b7_a860b638e912row0_col6 {\n",
       "            background-color:  #2987bc;\n",
       "        }    #T_2106c47a_294c_11e9_94b7_a860b638e912row0_col7 {\n",
       "            background-color:  #308cbe;\n",
       "        }    #T_2106c47a_294c_11e9_94b7_a860b638e912row1_col0 {\n",
       "            background-color:  #fff7fb;\n",
       "        }    #T_2106c47a_294c_11e9_94b7_a860b638e912row1_col1 {\n",
       "            background-color:  #f0eaf4;\n",
       "        }    #T_2106c47a_294c_11e9_94b7_a860b638e912row1_col2 {\n",
       "            background-color:  #b7c5df;\n",
       "        }    #T_2106c47a_294c_11e9_94b7_a860b638e912row1_col3 {\n",
       "            background-color:  #2685bb;\n",
       "        }    #T_2106c47a_294c_11e9_94b7_a860b638e912row1_col4 {\n",
       "            background-color:  #fff7fb;\n",
       "        }    #T_2106c47a_294c_11e9_94b7_a860b638e912row1_col5 {\n",
       "            background-color:  #f0eaf4;\n",
       "        }    #T_2106c47a_294c_11e9_94b7_a860b638e912row1_col6 {\n",
       "            background-color:  #b4c4df;\n",
       "        }    #T_2106c47a_294c_11e9_94b7_a860b638e912row1_col7 {\n",
       "            background-color:  #2685bb;\n",
       "        }    #T_2106c47a_294c_11e9_94b7_a860b638e912row2_col0 {\n",
       "            background-color:  #ece7f2;\n",
       "        }    #T_2106c47a_294c_11e9_94b7_a860b638e912row2_col1 {\n",
       "            background-color:  #fff7fb;\n",
       "        }    #T_2106c47a_294c_11e9_94b7_a860b638e912row2_col2 {\n",
       "            background-color:  #94b6d7;\n",
       "        }    #T_2106c47a_294c_11e9_94b7_a860b638e912row2_col3 {\n",
       "            background-color:  #2c89bd;\n",
       "        }    #T_2106c47a_294c_11e9_94b7_a860b638e912row2_col4 {\n",
       "            background-color:  #e4e1ef;\n",
       "        }    #T_2106c47a_294c_11e9_94b7_a860b638e912row2_col5 {\n",
       "            background-color:  #fff7fb;\n",
       "        }    #T_2106c47a_294c_11e9_94b7_a860b638e912row2_col6 {\n",
       "            background-color:  #8eb3d5;\n",
       "        }    #T_2106c47a_294c_11e9_94b7_a860b638e912row2_col7 {\n",
       "            background-color:  #2685bb;\n",
       "        }    #T_2106c47a_294c_11e9_94b7_a860b638e912row3_col0 {\n",
       "            background-color:  #a7bddb;\n",
       "        }    #T_2106c47a_294c_11e9_94b7_a860b638e912row3_col1 {\n",
       "            background-color:  #fff7fb;\n",
       "        }    #T_2106c47a_294c_11e9_94b7_a860b638e912row3_col2 {\n",
       "            background-color:  #2685bb;\n",
       "        }    #T_2106c47a_294c_11e9_94b7_a860b638e912row3_col3 {\n",
       "            background-color:  #3790c0;\n",
       "        }    #T_2106c47a_294c_11e9_94b7_a860b638e912row3_col4 {\n",
       "            background-color:  #a8bedc;\n",
       "        }    #T_2106c47a_294c_11e9_94b7_a860b638e912row3_col5 {\n",
       "            background-color:  #fff7fb;\n",
       "        }    #T_2106c47a_294c_11e9_94b7_a860b638e912row3_col6 {\n",
       "            background-color:  #2685bb;\n",
       "        }    #T_2106c47a_294c_11e9_94b7_a860b638e912row3_col7 {\n",
       "            background-color:  #3b92c1;\n",
       "        }    #T_2106c47a_294c_11e9_94b7_a860b638e912row4_col0 {\n",
       "            background-color:  #a9bfdc;\n",
       "        }    #T_2106c47a_294c_11e9_94b7_a860b638e912row4_col1 {\n",
       "            background-color:  #fff7fb;\n",
       "        }    #T_2106c47a_294c_11e9_94b7_a860b638e912row4_col2 {\n",
       "            background-color:  #4a98c5;\n",
       "        }    #T_2106c47a_294c_11e9_94b7_a860b638e912row4_col3 {\n",
       "            background-color:  #358fc0;\n",
       "        }    #T_2106c47a_294c_11e9_94b7_a860b638e912row4_col4 {\n",
       "            background-color:  #9cb9d9;\n",
       "        }    #T_2106c47a_294c_11e9_94b7_a860b638e912row4_col5 {\n",
       "            background-color:  #fdf5fa;\n",
       "        }    #T_2106c47a_294c_11e9_94b7_a860b638e912row4_col6 {\n",
       "            background-color:  #4295c3;\n",
       "        }    #T_2106c47a_294c_11e9_94b7_a860b638e912row4_col7 {\n",
       "            background-color:  #2685bb;\n",
       "        }    #T_2106c47a_294c_11e9_94b7_a860b638e912row5_col0 {\n",
       "            background-color:  #d7d6e9;\n",
       "        }    #T_2106c47a_294c_11e9_94b7_a860b638e912row5_col1 {\n",
       "            background-color:  #fef6fa;\n",
       "        }    #T_2106c47a_294c_11e9_94b7_a860b638e912row5_col2 {\n",
       "            background-color:  #2685bb;\n",
       "        }    #T_2106c47a_294c_11e9_94b7_a860b638e912row5_col3 {\n",
       "            background-color:  #5ea0ca;\n",
       "        }    #T_2106c47a_294c_11e9_94b7_a860b638e912row5_col4 {\n",
       "            background-color:  #d7d6e9;\n",
       "        }    #T_2106c47a_294c_11e9_94b7_a860b638e912row5_col5 {\n",
       "            background-color:  #fff7fb;\n",
       "        }    #T_2106c47a_294c_11e9_94b7_a860b638e912row5_col6 {\n",
       "            background-color:  #2a88bc;\n",
       "        }    #T_2106c47a_294c_11e9_94b7_a860b638e912row5_col7 {\n",
       "            background-color:  #63a2cb;\n",
       "        }    #T_2106c47a_294c_11e9_94b7_a860b638e912row6_col0 {\n",
       "            background-color:  #a2bcda;\n",
       "        }    #T_2106c47a_294c_11e9_94b7_a860b638e912row6_col1 {\n",
       "            background-color:  #fff7fb;\n",
       "        }    #T_2106c47a_294c_11e9_94b7_a860b638e912row6_col2 {\n",
       "            background-color:  #2685bb;\n",
       "        }    #T_2106c47a_294c_11e9_94b7_a860b638e912row6_col3 {\n",
       "            background-color:  #4e9ac6;\n",
       "        }    #T_2106c47a_294c_11e9_94b7_a860b638e912row6_col4 {\n",
       "            background-color:  #a8bedc;\n",
       "        }    #T_2106c47a_294c_11e9_94b7_a860b638e912row6_col5 {\n",
       "            background-color:  #fff7fb;\n",
       "        }    #T_2106c47a_294c_11e9_94b7_a860b638e912row6_col6 {\n",
       "            background-color:  #2786bb;\n",
       "        }    #T_2106c47a_294c_11e9_94b7_a860b638e912row6_col7 {\n",
       "            background-color:  #4e9ac6;\n",
       "        }    #T_2106c47a_294c_11e9_94b7_a860b638e912row7_col0 {\n",
       "            background-color:  #9ab8d8;\n",
       "        }    #T_2106c47a_294c_11e9_94b7_a860b638e912row7_col1 {\n",
       "            background-color:  #fef6fa;\n",
       "        }    #T_2106c47a_294c_11e9_94b7_a860b638e912row7_col2 {\n",
       "            background-color:  #3d93c2;\n",
       "        }    #T_2106c47a_294c_11e9_94b7_a860b638e912row7_col3 {\n",
       "            background-color:  #328dbf;\n",
       "        }    #T_2106c47a_294c_11e9_94b7_a860b638e912row7_col4 {\n",
       "            background-color:  #91b5d6;\n",
       "        }    #T_2106c47a_294c_11e9_94b7_a860b638e912row7_col5 {\n",
       "            background-color:  #fff7fb;\n",
       "        }    #T_2106c47a_294c_11e9_94b7_a860b638e912row7_col6 {\n",
       "            background-color:  #2f8bbe;\n",
       "        }    #T_2106c47a_294c_11e9_94b7_a860b638e912row7_col7 {\n",
       "            background-color:  #2685bb;\n",
       "        }    #T_2106c47a_294c_11e9_94b7_a860b638e912row8_col0 {\n",
       "            background-color:  #d0d1e6;\n",
       "        }    #T_2106c47a_294c_11e9_94b7_a860b638e912row8_col1 {\n",
       "            background-color:  #fdf5fa;\n",
       "        }    #T_2106c47a_294c_11e9_94b7_a860b638e912row8_col2 {\n",
       "            background-color:  #2786bb;\n",
       "        }    #T_2106c47a_294c_11e9_94b7_a860b638e912row8_col3 {\n",
       "            background-color:  #2685bb;\n",
       "        }    #T_2106c47a_294c_11e9_94b7_a860b638e912row8_col4 {\n",
       "            background-color:  #d3d4e7;\n",
       "        }    #T_2106c47a_294c_11e9_94b7_a860b638e912row8_col5 {\n",
       "            background-color:  #fff7fb;\n",
       "        }    #T_2106c47a_294c_11e9_94b7_a860b638e912row8_col6 {\n",
       "            background-color:  #348ebf;\n",
       "        }    #T_2106c47a_294c_11e9_94b7_a860b638e912row8_col7 {\n",
       "            background-color:  #2f8bbe;\n",
       "        }    #T_2106c47a_294c_11e9_94b7_a860b638e912row9_col0 {\n",
       "            background-color:  #67a4cc;\n",
       "        }    #T_2106c47a_294c_11e9_94b7_a860b638e912row9_col1 {\n",
       "            background-color:  #fff7fb;\n",
       "        }    #T_2106c47a_294c_11e9_94b7_a860b638e912row9_col2 {\n",
       "            background-color:  #2c89bd;\n",
       "        }    #T_2106c47a_294c_11e9_94b7_a860b638e912row9_col3 {\n",
       "            background-color:  #2685bb;\n",
       "        }    #T_2106c47a_294c_11e9_94b7_a860b638e912row9_col4 {\n",
       "            background-color:  #73a9cf;\n",
       "        }    #T_2106c47a_294c_11e9_94b7_a860b638e912row9_col5 {\n",
       "            background-color:  #fff7fb;\n",
       "        }    #T_2106c47a_294c_11e9_94b7_a860b638e912row9_col6 {\n",
       "            background-color:  #3991c1;\n",
       "        }    #T_2106c47a_294c_11e9_94b7_a860b638e912row9_col7 {\n",
       "            background-color:  #2786bb;\n",
       "        }    #T_2106c47a_294c_11e9_94b7_a860b638e912row10_col0 {\n",
       "            background-color:  #bfc9e1;\n",
       "        }    #T_2106c47a_294c_11e9_94b7_a860b638e912row10_col1 {\n",
       "            background-color:  #fff7fb;\n",
       "        }    #T_2106c47a_294c_11e9_94b7_a860b638e912row10_col2 {\n",
       "            background-color:  #7eadd1;\n",
       "        }    #T_2106c47a_294c_11e9_94b7_a860b638e912row10_col3 {\n",
       "            background-color:  #2786bb;\n",
       "        }    #T_2106c47a_294c_11e9_94b7_a860b638e912row10_col4 {\n",
       "            background-color:  #c4cbe3;\n",
       "        }    #T_2106c47a_294c_11e9_94b7_a860b638e912row10_col5 {\n",
       "            background-color:  #fef6fa;\n",
       "        }    #T_2106c47a_294c_11e9_94b7_a860b638e912row10_col6 {\n",
       "            background-color:  #80aed2;\n",
       "        }    #T_2106c47a_294c_11e9_94b7_a860b638e912row10_col7 {\n",
       "            background-color:  #2685bb;\n",
       "        }    #T_2106c47a_294c_11e9_94b7_a860b638e912row11_col0 {\n",
       "            background-color:  #d4d4e8;\n",
       "        }    #T_2106c47a_294c_11e9_94b7_a860b638e912row11_col1 {\n",
       "            background-color:  #fff7fb;\n",
       "        }    #T_2106c47a_294c_11e9_94b7_a860b638e912row11_col2 {\n",
       "            background-color:  #8eb3d5;\n",
       "        }    #T_2106c47a_294c_11e9_94b7_a860b638e912row11_col3 {\n",
       "            background-color:  #2685bb;\n",
       "        }    #T_2106c47a_294c_11e9_94b7_a860b638e912row11_col4 {\n",
       "            background-color:  #d4d4e8;\n",
       "        }    #T_2106c47a_294c_11e9_94b7_a860b638e912row11_col5 {\n",
       "            background-color:  #fff7fb;\n",
       "        }    #T_2106c47a_294c_11e9_94b7_a860b638e912row11_col6 {\n",
       "            background-color:  #91b5d6;\n",
       "        }    #T_2106c47a_294c_11e9_94b7_a860b638e912row11_col7 {\n",
       "            background-color:  #2786bb;\n",
       "        }</style>  \n",
       "<table id=\"T_2106c47a_294c_11e9_94b7_a860b638e912\" ><caption>Mean by Month and Wind Direction</caption> \n",
       "<thead>    <tr> \n",
       "        <th class=\"blank level0\" ></th> \n",
       "        <th class=\"col_heading level0 col0\" colspan=4>pm2.5</th> \n",
       "        <th class=\"col_heading level0 col4\" colspan=4>model_pm2.5</th> \n",
       "    </tr>    <tr> \n",
       "        <th class=\"index_name level1\" >cbwd</th> \n",
       "        <th class=\"col_heading level1 col0\" >NE</th> \n",
       "        <th class=\"col_heading level1 col1\" >NW</th> \n",
       "        <th class=\"col_heading level1 col2\" >SE</th> \n",
       "        <th class=\"col_heading level1 col3\" >cv</th> \n",
       "        <th class=\"col_heading level1 col4\" >NE</th> \n",
       "        <th class=\"col_heading level1 col5\" >NW</th> \n",
       "        <th class=\"col_heading level1 col6\" >SE</th> \n",
       "        <th class=\"col_heading level1 col7\" >cv</th> \n",
       "    </tr>    <tr> \n",
       "        <th class=\"index_name level0\" >month</th> \n",
       "        <th class=\"blank\" ></th> \n",
       "        <th class=\"blank\" ></th> \n",
       "        <th class=\"blank\" ></th> \n",
       "        <th class=\"blank\" ></th> \n",
       "        <th class=\"blank\" ></th> \n",
       "        <th class=\"blank\" ></th> \n",
       "        <th class=\"blank\" ></th> \n",
       "        <th class=\"blank\" ></th> \n",
       "    </tr></thead> \n",
       "<tbody>    <tr> \n",
       "        <th id=\"T_2106c47a_294c_11e9_94b7_a860b638e912level0_row0\" class=\"row_heading level0 row0\" >1</th> \n",
       "        <td id=\"T_2106c47a_294c_11e9_94b7_a860b638e912row0_col0\" class=\"data row0 col0\" >97.0</td> \n",
       "        <td id=\"T_2106c47a_294c_11e9_94b7_a860b638e912row0_col1\" class=\"data row0 col1\" >81.2</td> \n",
       "        <td id=\"T_2106c47a_294c_11e9_94b7_a860b638e912row0_col2\" class=\"data row0 col2\" >169.8</td> \n",
       "        <td id=\"T_2106c47a_294c_11e9_94b7_a860b638e912row0_col3\" class=\"data row0 col3\" >165.0</td> \n",
       "        <td id=\"T_2106c47a_294c_11e9_94b7_a860b638e912row0_col4\" class=\"data row0 col4\" >98.6</td> \n",
       "        <td id=\"T_2106c47a_294c_11e9_94b7_a860b638e912row0_col5\" class=\"data row0 col5\" >79.9</td> \n",
       "        <td id=\"T_2106c47a_294c_11e9_94b7_a860b638e912row0_col6\" class=\"data row0 col6\" >168.7</td> \n",
       "        <td id=\"T_2106c47a_294c_11e9_94b7_a860b638e912row0_col7\" class=\"data row0 col7\" >166.3</td> \n",
       "    </tr>    <tr> \n",
       "        <th id=\"T_2106c47a_294c_11e9_94b7_a860b638e912level0_row1\" class=\"row_heading level0 row1\" >2</th> \n",
       "        <td id=\"T_2106c47a_294c_11e9_94b7_a860b638e912row1_col0\" class=\"data row1 col0\" >90.8</td> \n",
       "        <td id=\"T_2106c47a_294c_11e9_94b7_a860b638e912row1_col1\" class=\"data row1 col1\" >103.6</td> \n",
       "        <td id=\"T_2106c47a_294c_11e9_94b7_a860b638e912row1_col2\" class=\"data row1 col2\" >133.3</td> \n",
       "        <td id=\"T_2106c47a_294c_11e9_94b7_a860b638e912row1_col3\" class=\"data row1 col3\" >177.3</td> \n",
       "        <td id=\"T_2106c47a_294c_11e9_94b7_a860b638e912row1_col4\" class=\"data row1 col4\" >91.0</td> \n",
       "        <td id=\"T_2106c47a_294c_11e9_94b7_a860b638e912row1_col5\" class=\"data row1 col5\" >103.6</td> \n",
       "        <td id=\"T_2106c47a_294c_11e9_94b7_a860b638e912row1_col6\" class=\"data row1 col6\" >134.1</td> \n",
       "        <td id=\"T_2106c47a_294c_11e9_94b7_a860b638e912row1_col7\" class=\"data row1 col7\" >177.3</td> \n",
       "    </tr>    <tr> \n",
       "        <th id=\"T_2106c47a_294c_11e9_94b7_a860b638e912level0_row2\" class=\"row_heading level0 row2\" >3</th> \n",
       "        <td id=\"T_2106c47a_294c_11e9_94b7_a860b638e912row2_col0\" class=\"data row2 col0\" >82.6</td> \n",
       "        <td id=\"T_2106c47a_294c_11e9_94b7_a860b638e912row2_col1\" class=\"data row2 col1\" >70.8</td> \n",
       "        <td id=\"T_2106c47a_294c_11e9_94b7_a860b638e912row2_col2\" class=\"data row2 col2\" >110.7</td> \n",
       "        <td id=\"T_2106c47a_294c_11e9_94b7_a860b638e912row2_col3\" class=\"data row2 col3\" >132.8</td> \n",
       "        <td id=\"T_2106c47a_294c_11e9_94b7_a860b638e912row2_col4\" class=\"data row2 col4\" >85.9</td> \n",
       "        <td id=\"T_2106c47a_294c_11e9_94b7_a860b638e912row2_col5\" class=\"data row2 col5\" >70.6</td> \n",
       "        <td id=\"T_2106c47a_294c_11e9_94b7_a860b638e912row2_col6\" class=\"data row2 col6\" >112.2</td> \n",
       "        <td id=\"T_2106c47a_294c_11e9_94b7_a860b638e912row2_col7\" class=\"data row2 col7\" >134.4</td> \n",
       "    </tr>    <tr> \n",
       "        <th id=\"T_2106c47a_294c_11e9_94b7_a860b638e912level0_row3\" class=\"row_heading level0 row3\" >4</th> \n",
       "        <td id=\"T_2106c47a_294c_11e9_94b7_a860b638e912row3_col0\" class=\"data row3 col0\" >78.9</td> \n",
       "        <td id=\"T_2106c47a_294c_11e9_94b7_a860b638e912row3_col1\" class=\"data row3 col1\" >49.1</td> \n",
       "        <td id=\"T_2106c47a_294c_11e9_94b7_a860b638e912row3_col2\" class=\"data row3 col2\" >102.6</td> \n",
       "        <td id=\"T_2106c47a_294c_11e9_94b7_a860b638e912row3_col3\" class=\"data row3 col3\" >99.1</td> \n",
       "        <td id=\"T_2106c47a_294c_11e9_94b7_a860b638e912row3_col4\" class=\"data row3 col4\" >78.7</td> \n",
       "        <td id=\"T_2106c47a_294c_11e9_94b7_a860b638e912row3_col5\" class=\"data row3 col5\" >49.0</td> \n",
       "        <td id=\"T_2106c47a_294c_11e9_94b7_a860b638e912row3_col6\" class=\"data row3 col6\" >102.6</td> \n",
       "        <td id=\"T_2106c47a_294c_11e9_94b7_a860b638e912row3_col7\" class=\"data row3 col7\" >98.4</td> \n",
       "    </tr>    <tr> \n",
       "        <th id=\"T_2106c47a_294c_11e9_94b7_a860b638e912level0_row4\" class=\"row_heading level0 row4\" >5</th> \n",
       "        <td id=\"T_2106c47a_294c_11e9_94b7_a860b638e912row4_col0\" class=\"data row4 col0\" >76.7</td> \n",
       "        <td id=\"T_2106c47a_294c_11e9_94b7_a860b638e912row4_col1\" class=\"data row4 col1\" >55.8</td> \n",
       "        <td id=\"T_2106c47a_294c_11e9_94b7_a860b638e912row4_col2\" class=\"data row4 col2\" >89.4</td> \n",
       "        <td id=\"T_2106c47a_294c_11e9_94b7_a860b638e912row4_col3\" class=\"data row4 col3\" >92.0</td> \n",
       "        <td id=\"T_2106c47a_294c_11e9_94b7_a860b638e912row4_col4\" class=\"data row4 col4\" >78.8</td> \n",
       "        <td id=\"T_2106c47a_294c_11e9_94b7_a860b638e912row4_col5\" class=\"data row4 col5\" >56.8</td> \n",
       "        <td id=\"T_2106c47a_294c_11e9_94b7_a860b638e912row4_col6\" class=\"data row4 col6\" >90.4</td> \n",
       "        <td id=\"T_2106c47a_294c_11e9_94b7_a860b638e912row4_col7\" class=\"data row4 col7\" >94.2</td> \n",
       "    </tr>    <tr> \n",
       "        <th id=\"T_2106c47a_294c_11e9_94b7_a860b638e912level0_row5\" class=\"row_heading level0 row5\" >6</th> \n",
       "        <td id=\"T_2106c47a_294c_11e9_94b7_a860b638e912row5_col0\" class=\"data row5 col0\" >75.3</td> \n",
       "        <td id=\"T_2106c47a_294c_11e9_94b7_a860b638e912row5_col1\" class=\"data row5 col1\" >59.3</td> \n",
       "        <td id=\"T_2106c47a_294c_11e9_94b7_a860b638e912row5_col2\" class=\"data row5 col2\" >109.8</td> \n",
       "        <td id=\"T_2106c47a_294c_11e9_94b7_a860b638e912row5_col3\" class=\"data row5 col3\" >100.3</td> \n",
       "        <td id=\"T_2106c47a_294c_11e9_94b7_a860b638e912row5_col4\" class=\"data row5 col4\" >75.3</td> \n",
       "        <td id=\"T_2106c47a_294c_11e9_94b7_a860b638e912row5_col5\" class=\"data row5 col5\" >58.4</td> \n",
       "        <td id=\"T_2106c47a_294c_11e9_94b7_a860b638e912row5_col6\" class=\"data row5 col6\" >108.7</td> \n",
       "        <td id=\"T_2106c47a_294c_11e9_94b7_a860b638e912row5_col7\" class=\"data row5 col7\" >99.4</td> \n",
       "    </tr>    <tr> \n",
       "        <th id=\"T_2106c47a_294c_11e9_94b7_a860b638e912level0_row6\" class=\"row_heading level0 row6\" >7</th> \n",
       "        <td id=\"T_2106c47a_294c_11e9_94b7_a860b638e912row6_col0\" class=\"data row6 col0\" >84.5</td> \n",
       "        <td id=\"T_2106c47a_294c_11e9_94b7_a860b638e912row6_col1\" class=\"data row6 col1\" >53.1</td> \n",
       "        <td id=\"T_2106c47a_294c_11e9_94b7_a860b638e912row6_col2\" class=\"data row6 col2\" >107.9</td> \n",
       "        <td id=\"T_2106c47a_294c_11e9_94b7_a860b638e912row6_col3\" class=\"data row6 col3\" >100.3</td> \n",
       "        <td id=\"T_2106c47a_294c_11e9_94b7_a860b638e912row6_col4\" class=\"data row6 col4\" >83.3</td> \n",
       "        <td id=\"T_2106c47a_294c_11e9_94b7_a860b638e912row6_col5\" class=\"data row6 col5\" >52.8</td> \n",
       "        <td id=\"T_2106c47a_294c_11e9_94b7_a860b638e912row6_col6\" class=\"data row6 col6\" >107.6</td> \n",
       "        <td id=\"T_2106c47a_294c_11e9_94b7_a860b638e912row6_col7\" class=\"data row6 col7\" >100.4</td> \n",
       "    </tr>    <tr> \n",
       "        <th id=\"T_2106c47a_294c_11e9_94b7_a860b638e912level0_row7\" class=\"row_heading level0 row7\" >8</th> \n",
       "        <td id=\"T_2106c47a_294c_11e9_94b7_a860b638e912row7_col0\" class=\"data row7 col0\" >75.6</td> \n",
       "        <td id=\"T_2106c47a_294c_11e9_94b7_a860b638e912row7_col1\" class=\"data row7 col1\" >51.5</td> \n",
       "        <td id=\"T_2106c47a_294c_11e9_94b7_a860b638e912row7_col2\" class=\"data row7 col2\" >88.3</td> \n",
       "        <td id=\"T_2106c47a_294c_11e9_94b7_a860b638e912row7_col3\" class=\"data row7 col3\" >89.6</td> \n",
       "        <td id=\"T_2106c47a_294c_11e9_94b7_a860b638e912row7_col4\" class=\"data row7 col4\" >77.1</td> \n",
       "        <td id=\"T_2106c47a_294c_11e9_94b7_a860b638e912row7_col5\" class=\"data row7 col5\" >50.9</td> \n",
       "        <td id=\"T_2106c47a_294c_11e9_94b7_a860b638e912row7_col6\" class=\"data row7 col6\" >90.0</td> \n",
       "        <td id=\"T_2106c47a_294c_11e9_94b7_a860b638e912row7_col7\" class=\"data row7 col7\" >91.6</td> \n",
       "    </tr>    <tr> \n",
       "        <th id=\"T_2106c47a_294c_11e9_94b7_a860b638e912level0_row8\" class=\"row_heading level0 row8\" >9</th> \n",
       "        <td id=\"T_2106c47a_294c_11e9_94b7_a860b638e912row8_col0\" class=\"data row8 col0\" >72.8</td> \n",
       "        <td id=\"T_2106c47a_294c_11e9_94b7_a860b638e912row8_col1\" class=\"data row8 col1\" >57.8</td> \n",
       "        <td id=\"T_2106c47a_294c_11e9_94b7_a860b638e912row8_col2\" class=\"data row8 col2\" >98.7</td> \n",
       "        <td id=\"T_2106c47a_294c_11e9_94b7_a860b638e912row8_col3\" class=\"data row8 col3\" >99.1</td> \n",
       "        <td id=\"T_2106c47a_294c_11e9_94b7_a860b638e912row8_col4\" class=\"data row8 col4\" >71.8</td> \n",
       "        <td id=\"T_2106c47a_294c_11e9_94b7_a860b638e912row8_col5\" class=\"data row8 col5\" >56.8</td> \n",
       "        <td id=\"T_2106c47a_294c_11e9_94b7_a860b638e912row8_col6\" class=\"data row8 col6\" >96.9</td> \n",
       "        <td id=\"T_2106c47a_294c_11e9_94b7_a860b638e912row8_col7\" class=\"data row8 col7\" >97.7</td> \n",
       "    </tr>    <tr> \n",
       "        <th id=\"T_2106c47a_294c_11e9_94b7_a860b638e912level0_row9\" class=\"row_heading level0 row9\" >10</th> \n",
       "        <td id=\"T_2106c47a_294c_11e9_94b7_a860b638e912row9_col0\" class=\"data row9 col0\" >129.6</td> \n",
       "        <td id=\"T_2106c47a_294c_11e9_94b7_a860b638e912row9_col1\" class=\"data row9 col1\" >78.6</td> \n",
       "        <td id=\"T_2106c47a_294c_11e9_94b7_a860b638e912row9_col2\" class=\"data row9 col2\" >141.7</td> \n",
       "        <td id=\"T_2106c47a_294c_11e9_94b7_a860b638e912row9_col3\" class=\"data row9 col3\" >143.1</td> \n",
       "        <td id=\"T_2106c47a_294c_11e9_94b7_a860b638e912row9_col4\" class=\"data row9 col4\" >127.1</td> \n",
       "        <td id=\"T_2106c47a_294c_11e9_94b7_a860b638e912row9_col5\" class=\"data row9 col5\" >78.8</td> \n",
       "        <td id=\"T_2106c47a_294c_11e9_94b7_a860b638e912row9_col6\" class=\"data row9 col6\" >138.6</td> \n",
       "        <td id=\"T_2106c47a_294c_11e9_94b7_a860b638e912row9_col7\" class=\"data row9 col7\" >142.5</td> \n",
       "    </tr>    <tr> \n",
       "        <th id=\"T_2106c47a_294c_11e9_94b7_a860b638e912level0_row10\" class=\"row_heading level0 row10\" >11</th> \n",
       "        <td id=\"T_2106c47a_294c_11e9_94b7_a860b638e912row10_col0\" class=\"data row10 col0\" >110.0</td> \n",
       "        <td id=\"T_2106c47a_294c_11e9_94b7_a860b638e912row10_col1\" class=\"data row10 col1\" >76.5</td> \n",
       "        <td id=\"T_2106c47a_294c_11e9_94b7_a860b638e912row10_col2\" class=\"data row10 col2\" >129.2</td> \n",
       "        <td id=\"T_2106c47a_294c_11e9_94b7_a860b638e912row10_col3\" class=\"data row10 col3\" >149.8</td> \n",
       "        <td id=\"T_2106c47a_294c_11e9_94b7_a860b638e912row10_col4\" class=\"data row10 col4\" >108.2</td> \n",
       "        <td id=\"T_2106c47a_294c_11e9_94b7_a860b638e912row10_col5\" class=\"data row10 col5\" >77.5</td> \n",
       "        <td id=\"T_2106c47a_294c_11e9_94b7_a860b638e912row10_col6\" class=\"data row10 col6\" >128.6</td> \n",
       "        <td id=\"T_2106c47a_294c_11e9_94b7_a860b638e912row10_col7\" class=\"data row10 col7\" >150.5</td> \n",
       "    </tr>    <tr> \n",
       "        <th id=\"T_2106c47a_294c_11e9_94b7_a860b638e912level0_row11\" class=\"row_heading level0 row11\" >12</th> \n",
       "        <td id=\"T_2106c47a_294c_11e9_94b7_a860b638e912row11_col0\" class=\"data row11 col0\" >99.8</td> \n",
       "        <td id=\"T_2106c47a_294c_11e9_94b7_a860b638e912row11_col1\" class=\"data row11 col1\" >67.1</td> \n",
       "        <td id=\"T_2106c47a_294c_11e9_94b7_a860b638e912row11_col2\" class=\"data row11 col2\" >128.0</td> \n",
       "        <td id=\"T_2106c47a_294c_11e9_94b7_a860b638e912row11_col3\" class=\"data row11 col3\" >160.2</td> \n",
       "        <td id=\"T_2106c47a_294c_11e9_94b7_a860b638e912row11_col4\" class=\"data row11 col4\" >99.4</td> \n",
       "        <td id=\"T_2106c47a_294c_11e9_94b7_a860b638e912row11_col5\" class=\"data row11 col5\" >67.1</td> \n",
       "        <td id=\"T_2106c47a_294c_11e9_94b7_a860b638e912row11_col6\" class=\"data row11 col6\" >126.9</td> \n",
       "        <td id=\"T_2106c47a_294c_11e9_94b7_a860b638e912row11_col7\" class=\"data row11 col7\" >159.5</td> \n",
       "    </tr></tbody> \n",
       "</table> "
      ],
      "text/plain": [
       "<pandas.io.formats.style.Styler at 0x116a75f28>"
      ]
     },
     "execution_count": 117,
     "metadata": {},
     "output_type": "execute_result"
    }
   ],
   "source": [
    "grouped = beijing.groupby([\"month\",\"cbwd\"])[[\"pm2.5\",\"model_pm2.5\"]].mean().unstack()\n",
    "\n",
    "grouped.style.format(\"{:.1f}\").background_gradient(axis=1,high=0.5).\\\n",
    "set_caption(\"Mean by Month and Wind Direction\")"
   ]
  },
  {
   "cell_type": "code",
   "execution_count": 118,
   "metadata": {},
   "outputs": [],
   "source": [
    "del beijing"
   ]
  },
  {
   "cell_type": "markdown",
   "metadata": {},
   "source": [
    "## Expand Dataset & Redevelop Model<a class=\"anchor\" id=\"remodeldev\"></a>\n",
    "Will this model improve if Lagged Variables are Included? By how much?"
   ]
  },
  {
   "cell_type": "code",
   "execution_count": 119,
   "metadata": {},
   "outputs": [
    {
     "data": {
      "text/plain": [
       "(43824, 232)"
      ]
     },
     "execution_count": 119,
     "metadata": {},
     "output_type": "execute_result"
    }
   ],
   "source": [
    "beijing2 = pd.concat([beijing2,\n",
    "                      beijing2.drop(target, axis=1).shift().rename(lambda x: x+'_lag1',    axis=1),\n",
    "                      beijing2.drop(target, axis=1).shift(24).rename(lambda x: x+'_lag24', axis=1)\n",
    "                     ], axis=1)\n",
    "beijing2.shape"
   ]
  },
  {
   "cell_type": "code",
   "execution_count": 120,
   "metadata": {},
   "outputs": [],
   "source": [
    "beijing2 = beijing2.iloc[24:,:]"
   ]
  },
  {
   "cell_type": "code",
   "execution_count": 121,
   "metadata": {},
   "outputs": [],
   "source": [
    "is_target_missing = beijing2[target].isnull()"
   ]
  },
  {
   "cell_type": "code",
   "execution_count": 122,
   "metadata": {},
   "outputs": [],
   "source": [
    "X_pred = beijing2.loc[is_target_missing].drop(target,axis=1).values\n",
    "X_true = beijing2.loc[~is_target_missing].drop(target,axis=1).values"
   ]
  },
  {
   "cell_type": "code",
   "execution_count": 123,
   "metadata": {},
   "outputs": [],
   "source": [
    "y = beijing2.loc[~is_target_missing,target].values.astype('int32')"
   ]
  },
  {
   "cell_type": "code",
   "execution_count": 124,
   "metadata": {},
   "outputs": [],
   "source": [
    "scaler = RobustScaler()\n",
    "X_true = scaler.fit_transform(X_true)\n",
    "X_pred = scaler.transform(X_pred)"
   ]
  },
  {
   "cell_type": "markdown",
   "metadata": {},
   "source": [
    "### Random Forest Model<a class=\"anchor\" id=\"remodeldev_1\"></a>"
   ]
  },
  {
   "cell_type": "code",
   "execution_count": 125,
   "metadata": {},
   "outputs": [],
   "source": [
    "rf = RandomForestRegressor(n_estimators=300,max_depth=15,min_samples_leaf=30,random_state=19, max_features=75)"
   ]
  },
  {
   "cell_type": "code",
   "execution_count": 126,
   "metadata": {},
   "outputs": [
    {
     "name": "stdout",
     "output_type": "stream",
     "text": [
      "Time elapsed (hh:mm:ss.ms) 0:03:12.820297\n"
     ]
    }
   ],
   "source": [
    "t0 = datetime.now()\n",
    "\n",
    "oof = np.zeros(y.shape[0])\n",
    "for train, test in cv.split(X_true,y):\n",
    "    rf.fit(X_true[train], y[train])\n",
    "    oof[test] = rf.predict(X_true[test])\n",
    "    #rf.fit(X_true[train], np.log1p(y[train]))\n",
    "    #oof[test] = np.expm1(rf.predict(X_true[test]))\n",
    "\n",
    "print('Time elapsed (hh:mm:ss.ms) {}'.format(datetime.now() - t0))"
   ]
  },
  {
   "cell_type": "code",
   "execution_count": 127,
   "metadata": {},
   "outputs": [
    {
     "name": "stdout",
     "output_type": "stream",
     "text": [
      "msle 0.41635 R-square 0.5948\n"
     ]
    }
   ],
   "source": [
    "print(\"msle {:.5f}\".format(mean_squared_log_error(y,oof))+\n",
    "      \" R-square {:.4f}\".format(r2_score(y,oof)))"
   ]
  },
  {
   "cell_type": "markdown",
   "metadata": {},
   "source": [
    "Improved, but not by a lot!"
   ]
  },
  {
   "cell_type": "markdown",
   "metadata": {},
   "source": [
    "## Gradient Boosting Model<a class=\"anchor\" id=\"remodeldev_2\"></a>\n",
    "BEST FIT (R-square 0.82)"
   ]
  },
  {
   "cell_type": "code",
   "execution_count": 128,
   "metadata": {},
   "outputs": [],
   "source": [
    "gb = GradientBoostingRegressor(n_estimators = 300, max_depth = 15, max_features = 75, subsample = 0.7, random_state=2019)"
   ]
  },
  {
   "cell_type": "code",
   "execution_count": 129,
   "metadata": {},
   "outputs": [
    {
     "name": "stdout",
     "output_type": "stream",
     "text": [
      "Time elapsed (hh:mm:ss.ms) 0:52:40.430058\n"
     ]
    }
   ],
   "source": [
    "t0 = datetime.now()\n",
    "\n",
    "oof = np.zeros(y.shape[0])\n",
    "for train, test in cv.split(X_true,y):\n",
    "    #gb.fit(X_true[train], y[train])\n",
    "    #oof[test] = np.maximum(gb.predict(X_true[test]),0)\n",
    "    gb.fit(X_true[train], np.log1p(y[train]))\n",
    "    oof[test] = np.expm1(gb.predict(X_true[test]))\n",
    "\n",
    "print('Time elapsed (hh:mm:ss.ms) {}'.format(datetime.now() - t0))"
   ]
  },
  {
   "cell_type": "code",
   "execution_count": 130,
   "metadata": {},
   "outputs": [
    {
     "data": {
      "text/html": [
       "<div>\n",
       "<style scoped>\n",
       "    .dataframe tbody tr th:only-of-type {\n",
       "        vertical-align: middle;\n",
       "    }\n",
       "\n",
       "    .dataframe tbody tr th {\n",
       "        vertical-align: top;\n",
       "    }\n",
       "\n",
       "    .dataframe thead th {\n",
       "        text-align: right;\n",
       "    }\n",
       "</style>\n",
       "<table border=\"1\" class=\"dataframe\">\n",
       "  <thead>\n",
       "    <tr style=\"text-align: right;\">\n",
       "      <th></th>\n",
       "      <th>var</th>\n",
       "      <th>fi</th>\n",
       "    </tr>\n",
       "  </thead>\n",
       "  <tbody>\n",
       "    <tr>\n",
       "      <th>157</th>\n",
       "      <td>Iws_lag24</td>\n",
       "      <td>0.053184</td>\n",
       "    </tr>\n",
       "    <tr>\n",
       "      <th>80</th>\n",
       "      <td>Iws_lag1</td>\n",
       "      <td>0.049943</td>\n",
       "    </tr>\n",
       "    <tr>\n",
       "      <th>3</th>\n",
       "      <td>Iws</td>\n",
       "      <td>0.048565</td>\n",
       "    </tr>\n",
       "    <tr>\n",
       "      <th>154</th>\n",
       "      <td>DEWP_lag24</td>\n",
       "      <td>0.044562</td>\n",
       "    </tr>\n",
       "    <tr>\n",
       "      <th>156</th>\n",
       "      <td>PRES_lag24</td>\n",
       "      <td>0.044276</td>\n",
       "    </tr>\n",
       "    <tr>\n",
       "      <th>0</th>\n",
       "      <td>DEWP</td>\n",
       "      <td>0.044011</td>\n",
       "    </tr>\n",
       "    <tr>\n",
       "      <th>77</th>\n",
       "      <td>DEWP_lag1</td>\n",
       "      <td>0.043015</td>\n",
       "    </tr>\n",
       "    <tr>\n",
       "      <th>155</th>\n",
       "      <td>TEMP_lag24</td>\n",
       "      <td>0.042611</td>\n",
       "    </tr>\n",
       "    <tr>\n",
       "      <th>78</th>\n",
       "      <td>TEMP_lag1</td>\n",
       "      <td>0.038654</td>\n",
       "    </tr>\n",
       "    <tr>\n",
       "      <th>2</th>\n",
       "      <td>PRES</td>\n",
       "      <td>0.037553</td>\n",
       "    </tr>\n",
       "    <tr>\n",
       "      <th>1</th>\n",
       "      <td>TEMP</td>\n",
       "      <td>0.037217</td>\n",
       "    </tr>\n",
       "    <tr>\n",
       "      <th>79</th>\n",
       "      <td>PRES_lag1</td>\n",
       "      <td>0.036802</td>\n",
       "    </tr>\n",
       "    <tr>\n",
       "      <th>151</th>\n",
       "      <td>cbwd_NW_lag1</td>\n",
       "      <td>0.009388</td>\n",
       "    </tr>\n",
       "    <tr>\n",
       "      <th>229</th>\n",
       "      <td>cbwd_SE_lag24</td>\n",
       "      <td>0.005871</td>\n",
       "    </tr>\n",
       "    <tr>\n",
       "      <th>152</th>\n",
       "      <td>cbwd_SE_lag1</td>\n",
       "      <td>0.005746</td>\n",
       "    </tr>\n",
       "  </tbody>\n",
       "</table>\n",
       "</div>"
      ],
      "text/plain": [
       "               var        fi\n",
       "157      Iws_lag24  0.053184\n",
       "80        Iws_lag1  0.049943\n",
       "3              Iws  0.048565\n",
       "154     DEWP_lag24  0.044562\n",
       "156     PRES_lag24  0.044276\n",
       "0             DEWP  0.044011\n",
       "77       DEWP_lag1  0.043015\n",
       "155     TEMP_lag24  0.042611\n",
       "78       TEMP_lag1  0.038654\n",
       "2             PRES  0.037553\n",
       "1             TEMP  0.037217\n",
       "79       PRES_lag1  0.036802\n",
       "151   cbwd_NW_lag1  0.009388\n",
       "229  cbwd_SE_lag24  0.005871\n",
       "152   cbwd_SE_lag1  0.005746"
      ]
     },
     "execution_count": 130,
     "metadata": {},
     "output_type": "execute_result"
    }
   ],
   "source": [
    "pd.DataFrame({'var':list(beijing2.drop(target,axis=1).columns),'fi':gb.feature_importances_}).\\\n",
    "sort_values(by=['fi'], ascending=False).head(15)"
   ]
  },
  {
   "cell_type": "code",
   "execution_count": 131,
   "metadata": {},
   "outputs": [
    {
     "name": "stdout",
     "output_type": "stream",
     "text": [
      " R-square 0.8210\n"
     ]
    }
   ],
   "source": [
    "print(#\"msle {:.5f}\".format(mean_squared_log_error(y,oof))+\n",
    "      \" R-square {:.4f}\".format(r2_score(y,oof)))"
   ]
  },
  {
   "cell_type": "markdown",
   "metadata": {},
   "source": [
    "<p> Not at all!\n",
    "<p> Dataset Expansion Is Not Worth The Effort."
   ]
  }
 ],
 "metadata": {
  "kernelspec": {
   "display_name": "Python 3",
   "language": "python",
   "name": "python3"
  },
  "language_info": {
   "codemirror_mode": {
    "name": "ipython",
    "version": 3
   },
   "file_extension": ".py",
   "mimetype": "text/x-python",
   "name": "python",
   "nbconvert_exporter": "python",
   "pygments_lexer": "ipython3",
   "version": "3.6.3"
  }
 },
 "nbformat": 4,
 "nbformat_minor": 2
}
