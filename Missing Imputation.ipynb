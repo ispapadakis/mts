{
 "cells": [
  {
   "cell_type": "markdown",
   "metadata": {},
   "source": [
    "<h1 style=\"color: green\">Beijing Air Quality Data (2010-15)</h1>\n",
    "<h1 style=\"font-size:32px;\">MISSING IMPUTATION</h1>\n",
    "\n",
    "<hr>\n",
    "\n",
    "## Table of Contents\n",
    "* [1. Load Raw Data](#loadraw)\n",
    "    * [2.1 Data Transformations](#loadraw_1)\n",
    "* [2. Model Development](#modeldev)\n",
    "    * [2.1 Ramdom Forest](#modeldev_rf)\n",
    "    * [2.2 Lasso-Lars Regression](#modeldev_reg)\n",
    "    * [2.3 Gradient Boosting Regression](#modeldev_gb)\n",
    "* [3. Impute Missing Values](#impute)\n",
    "    * [3.1 Verify Qualitative Behavior of Modeled Dependent Variable](#impute_ver)\n",
    "* [4. Expand Dataset & Redevelop Model](#remodeldev)\n",
    "    * [4.1 Random Forest](#remodeldev_1)\n",
    "    * [4.2 Gradient Boosting Regression](#remodeldev_2)\n",
    "\n",
    "<hr>"
   ]
  },
  {
   "cell_type": "markdown",
   "metadata": {},
   "source": [
    "Use Pandas, Numpy, and sklearn to impute missing Particulate Matter values"
   ]
  },
  {
   "cell_type": "code",
   "execution_count": 44,
   "metadata": {},
   "outputs": [],
   "source": [
    "# Load Modules\n",
    "import pandas as pd\n",
    "import numpy as np\n",
    "%matplotlib inline\n",
    "from datetime import datetime\n",
    "from sklearn.preprocessing import RobustScaler\n",
    "from sklearn.model_selection import KFold\n",
    "from sklearn.ensemble import GradientBoostingRegressor\n",
    "from sklearn.ensemble import RandomForestRegressor\n",
    "from sklearn.metrics import r2_score, mean_squared_log_error\n",
    "from sklearn.linear_model import LassoLars"
   ]
  },
  {
   "cell_type": "markdown",
   "metadata": {},
   "source": [
    "## 1. Load Raw Data<a class=\"anchor\" id=\"loadraw\"></a>"
   ]
  },
  {
   "cell_type": "code",
   "execution_count": 45,
   "metadata": {},
   "outputs": [
    {
     "name": "stdout",
     "output_type": "stream",
     "text": [
      "<class 'pandas.core.frame.DataFrame'>\n",
      "RangeIndex: 43824 entries, 0 to 43823\n",
      "Data columns (total 13 columns):\n",
      "No       43824 non-null int64\n",
      "year     43824 non-null int64\n",
      "month    43824 non-null int64\n",
      "day      43824 non-null int64\n",
      "hour     43824 non-null int64\n",
      "pm2.5    41757 non-null float64\n",
      "DEWP     43824 non-null int64\n",
      "TEMP     43824 non-null float64\n",
      "PRES     43824 non-null float64\n",
      "cbwd     43824 non-null object\n",
      "Iws      43824 non-null float64\n",
      "Is       43824 non-null int64\n",
      "Ir       43824 non-null int64\n",
      "dtypes: float64(4), int64(8), object(1)\n",
      "memory usage: 4.3+ MB\n"
     ]
    }
   ],
   "source": [
    "beijing = pd.read_csv(\"https://raw.githubusercontent.com/jbrownlee/Datasets/master/pollution.csv\")\n",
    "beijing.info()"
   ]
  },
  {
   "cell_type": "code",
   "execution_count": 46,
   "metadata": {},
   "outputs": [],
   "source": [
    "#Dependent Variable\n",
    "target = 'pm2.5'"
   ]
  },
  {
   "cell_type": "code",
   "execution_count": 47,
   "metadata": {},
   "outputs": [],
   "source": [
    "is_target_missing = beijing[target].isnull()"
   ]
  },
  {
   "cell_type": "code",
   "execution_count": 48,
   "metadata": {},
   "outputs": [
    {
     "name": "stdout",
     "output_type": "stream",
     "text": [
      "Total Cases Missing Target Variable: 2067\n"
     ]
    }
   ],
   "source": [
    "print('Total Cases Missing Target Variable: {}'.format(sum(is_target_missing)))"
   ]
  },
  {
   "cell_type": "markdown",
   "metadata": {},
   "source": [
    "### 1.1 Data Transformations<a class=\"anchor\" id=\"loadraw_1\"></a>\n",
    "#### Drop Unwanted"
   ]
  },
  {
   "cell_type": "code",
   "execution_count": 49,
   "metadata": {},
   "outputs": [],
   "source": [
    "dropvars = ['No']"
   ]
  },
  {
   "cell_type": "markdown",
   "metadata": {},
   "source": [
    "#### Convert Categorical to Numeric Using Dummies"
   ]
  },
  {
   "cell_type": "code",
   "execution_count": 50,
   "metadata": {},
   "outputs": [],
   "source": [
    "beijing2 = pd.get_dummies(beijing,columns=['year','month','day','hour','cbwd'], drop_first=True)"
   ]
  },
  {
   "cell_type": "code",
   "execution_count": 51,
   "metadata": {},
   "outputs": [],
   "source": [
    "beijing2.drop(dropvars,axis=1,inplace=True)"
   ]
  },
  {
   "cell_type": "markdown",
   "metadata": {},
   "source": [
    "#### Put Into Numpy Array Format"
   ]
  },
  {
   "cell_type": "code",
   "execution_count": 52,
   "metadata": {},
   "outputs": [],
   "source": [
    "X_pred = beijing2.loc[is_target_missing].drop(target,axis=1).values\n",
    "X_true = beijing2.loc[~is_target_missing].drop(target,axis=1).values"
   ]
  },
  {
   "cell_type": "code",
   "execution_count": 53,
   "metadata": {},
   "outputs": [],
   "source": [
    "y = beijing2.loc[~is_target_missing,target].values.astype('int32')"
   ]
  },
  {
   "cell_type": "markdown",
   "metadata": {},
   "source": [
    "#### Scale Predictors to Improve Estimation Efficiency"
   ]
  },
  {
   "cell_type": "code",
   "execution_count": 54,
   "metadata": {},
   "outputs": [
    {
     "name": "stdout",
     "output_type": "stream",
     "text": [
      "X_true Shape: (41757, 77)\n",
      "X_pred Shape: (2067, 77)\n"
     ]
    }
   ],
   "source": [
    "scaler = RobustScaler()\n",
    "X_true = scaler.fit_transform(X_true)\n",
    "X_pred = scaler.transform(X_pred)\n",
    "print(\"X_true Shape: {}\".format(X_true.shape))\n",
    "print(\"X_pred Shape: {}\".format(X_pred.shape))"
   ]
  },
  {
   "cell_type": "markdown",
   "metadata": {},
   "source": [
    "## 2. Model Development<a class=\"anchor\" id=\"modeldev\"></a>\n",
    "Build Diverse Models and Select Best Fit\n",
    "#### Prepare Cross-Validation Folds"
   ]
  },
  {
   "cell_type": "code",
   "execution_count": 55,
   "metadata": {},
   "outputs": [],
   "source": [
    "cv = KFold(n_splits=5, shuffle=True, random_state=2019)"
   ]
  },
  {
   "cell_type": "markdown",
   "metadata": {},
   "source": [
    "### 2.1 Random Forest<a class=\"anchor\" id=\"modeldev_rf\"></a>"
   ]
  },
  {
   "cell_type": "code",
   "execution_count": 56,
   "metadata": {},
   "outputs": [],
   "source": [
    "rf = RandomForestRegressor(n_estimators=300,max_depth=15,min_samples_leaf=30,random_state=19)"
   ]
  },
  {
   "cell_type": "code",
   "execution_count": 57,
   "metadata": {},
   "outputs": [
    {
     "name": "stdout",
     "output_type": "stream",
     "text": [
      "Time elapsed (hh:mm:ss.ms) 0:02:35.503972\n"
     ]
    }
   ],
   "source": [
    "t0 = datetime.now()\n",
    "\n",
    "oof = np.zeros(y.shape[0])\n",
    "for train, test in cv.split(X_true,y):\n",
    "    rf.fit(X_true[train], y[train])\n",
    "    oof[test] = rf.predict(X_true[test])\n",
    "\n",
    "print('Time elapsed (hh:mm:ss.ms) {}'.format(datetime.now() - t0))"
   ]
  },
  {
   "cell_type": "code",
   "execution_count": 58,
   "metadata": {},
   "outputs": [
    {
     "name": "stdout",
     "output_type": "stream",
     "text": [
      "msle 0.43282 R-square 0.5689\n"
     ]
    }
   ],
   "source": [
    "print(\"msle {:.5f}\".format(mean_squared_log_error(y,oof))+\n",
    "      \" R-square {:.4f}\".format(r2_score(y,oof)))"
   ]
  },
  {
   "cell_type": "markdown",
   "metadata": {},
   "source": [
    "### 2.2 Lasso - Lars Regression<a class=\"anchor\" id=\"modeldev_reg\"></a>\n",
    "Uses Log Transformation of Dependent Variable"
   ]
  },
  {
   "cell_type": "code",
   "execution_count": 59,
   "metadata": {},
   "outputs": [],
   "source": [
    "reg = LassoLars(alpha=0.007,normalize=False,max_iter=100)\n",
    "# Data already normalized\n",
    "# Model often unstable for low alpha"
   ]
  },
  {
   "cell_type": "code",
   "execution_count": 60,
   "metadata": {},
   "outputs": [
    {
     "name": "stdout",
     "output_type": "stream",
     "text": [
      "Time elapsed (hh:mm:ss.ms) 0:00:00.209228\n"
     ]
    }
   ],
   "source": [
    "t0 = datetime.now()\n",
    "\n",
    "oof = np.zeros(y.shape[0])\n",
    "for train, test in cv.split(X_true,y):\n",
    "    reg.fit(X_true[train], np.log1p(y[train]))\n",
    "    oof[test] = np.expm1(reg.predict(X_true[test]))\n",
    "\n",
    "print('Time elapsed (hh:mm:ss.ms) {}'.format(datetime.now() - t0))"
   ]
  },
  {
   "cell_type": "code",
   "execution_count": 61,
   "metadata": {},
   "outputs": [
    {
     "name": "stdout",
     "output_type": "stream",
     "text": [
      "msle 0.54739 R-square 0.2160\n"
     ]
    }
   ],
   "source": [
    "print(\"msle {:.5f}\".format(mean_squared_log_error(y,oof))+\n",
    "      \" R-square {:.4f}\".format(r2_score(y,oof)))"
   ]
  },
  {
   "cell_type": "markdown",
   "metadata": {},
   "source": [
    "##### 2.3 Gradient Boosting Regression<a class=\"anchor\" id=\"modeldev_gb\"></a>\n",
    "BEST FIT (R-square 0.8358)"
   ]
  },
  {
   "cell_type": "code",
   "execution_count": 62,
   "metadata": {},
   "outputs": [],
   "source": [
    "gb = GradientBoostingRegressor(n_estimators = 400, max_depth = 15, subsample = 0.7, random_state=2019) # Rsq:0.8358"
   ]
  },
  {
   "cell_type": "code",
   "execution_count": 63,
   "metadata": {},
   "outputs": [
    {
     "name": "stdout",
     "output_type": "stream",
     "text": [
      "Time elapsed (hh:mm:ss.ms) 0:49:00.268776\n"
     ]
    }
   ],
   "source": [
    "t0 = datetime.now()\n",
    "\n",
    "oof = np.zeros(y.shape[0])\n",
    "for train, test in cv.split(X_true,y):\n",
    "    gb.fit(X_true[train], y[train])\n",
    "    oof[test] = np.maximum(gb.predict(X_true[test]),0)\n",
    "    #gb.fit(X_true[train], np.log1p(y[train]))\n",
    "    #oof[test] = np.expm1(gb.predict(X_true[test]))\n",
    "\n",
    "print('Time elapsed (hh:mm:ss.ms) {}'.format(datetime.now() - t0))"
   ]
  },
  {
   "cell_type": "code",
   "execution_count": 64,
   "metadata": {},
   "outputs": [
    {
     "name": "stdout",
     "output_type": "stream",
     "text": [
      " R-square 0.8358\n"
     ]
    }
   ],
   "source": [
    "print(#\"msle {:.5f}\".format(mean_squared_log_error(y,oof))+\n",
    "      \" R-square {:.4f}\".format(r2_score(y,oof)))"
   ]
  },
  {
   "cell_type": "markdown",
   "metadata": {},
   "source": [
    "## 3. Impute Missing Values<a class=\"anchor\" id=\"modeldev\"></a>\n",
    "Use best fit (Gradient Boosting Regressor)"
   ]
  },
  {
   "cell_type": "code",
   "execution_count": 65,
   "metadata": {},
   "outputs": [],
   "source": [
    "new_y = np.zeros(beijing.shape[0])\n",
    "new_y[~is_target_missing] = y\n",
    "new_y[is_target_missing] = gb.predict(X_pred)"
   ]
  },
  {
   "cell_type": "markdown",
   "metadata": {},
   "source": [
    "#### Store Results"
   ]
  },
  {
   "cell_type": "code",
   "execution_count": 66,
   "metadata": {},
   "outputs": [],
   "source": [
    "beijing['model_pm2.5'] = new_y\n",
    "beijing.to_csv(\"beijing.csv\", index=False)"
   ]
  },
  {
   "cell_type": "markdown",
   "metadata": {},
   "source": [
    "### 3.1 Verify Qualitative Behavior of Modeled Dependent Variable<a class=\"anchor\" id=\"impute_ver\"></a>"
   ]
  },
  {
   "cell_type": "markdown",
   "metadata": {},
   "source": [
    "#### Modeled PM Distribution by Month"
   ]
  },
  {
   "cell_type": "code",
   "execution_count": 67,
   "metadata": {},
   "outputs": [
    {
     "data": {
      "image/png": "[encoded data removed]",
      "text/plain": [
       "<matplotlib.figure.Figure at 0x1167f8b38>"
      ]
     },
     "metadata": {},
     "output_type": "display_data"
    }
   ],
   "source": [
    "ax = beijing.loc[beijing.hour==1].boxplot(\"model_pm2.5\",by=\"month\")"
   ]
  },
  {
   "cell_type": "markdown",
   "metadata": {},
   "source": [
    "#### Modeled PM Distribution by Month and Wind Direction"
   ]
  },
  {
   "cell_type": "code",
   "execution_count": 68,
   "metadata": {},
   "outputs": [
    {
     "data": {
      "text/html": [
       "<style  type=\"text/css\" >\n",
       "    #T_dc830168_28cd_11e9_a7a6_a860b638e912row0_col3 {\n",
       "            background-color:  royalblue;\n",
       "        }    #T_dc830168_28cd_11e9_a7a6_a860b638e912row1_col3 {\n",
       "            background-color:  royalblue;\n",
       "        }    #T_dc830168_28cd_11e9_a7a6_a860b638e912row2_col3 {\n",
       "            background-color:  royalblue;\n",
       "        }    #T_dc830168_28cd_11e9_a7a6_a860b638e912row3_col2 {\n",
       "            background-color:  royalblue;\n",
       "        }    #T_dc830168_28cd_11e9_a7a6_a860b638e912row4_col2 {\n",
       "            background-color:  royalblue;\n",
       "        }    #T_dc830168_28cd_11e9_a7a6_a860b638e912row5_col2 {\n",
       "            background-color:  royalblue;\n",
       "        }    #T_dc830168_28cd_11e9_a7a6_a860b638e912row6_col2 {\n",
       "            background-color:  royalblue;\n",
       "        }    #T_dc830168_28cd_11e9_a7a6_a860b638e912row7_col3 {\n",
       "            background-color:  royalblue;\n",
       "        }    #T_dc830168_28cd_11e9_a7a6_a860b638e912row8_col2 {\n",
       "            background-color:  royalblue;\n",
       "        }    #T_dc830168_28cd_11e9_a7a6_a860b638e912row9_col3 {\n",
       "            background-color:  royalblue;\n",
       "        }    #T_dc830168_28cd_11e9_a7a6_a860b638e912row10_col3 {\n",
       "            background-color:  royalblue;\n",
       "        }    #T_dc830168_28cd_11e9_a7a6_a860b638e912row11_col3 {\n",
       "            background-color:  royalblue;\n",
       "        }</style>  \n",
       "<table id=\"T_dc830168_28cd_11e9_a7a6_a860b638e912\" ><caption>Max Median by Month and Wind Direction</caption> \n",
       "<thead>    <tr> \n",
       "        <th class=\"index_name level0\" >cbwd</th> \n",
       "        <th class=\"col_heading level0 col0\" >NE</th> \n",
       "        <th class=\"col_heading level0 col1\" >NW</th> \n",
       "        <th class=\"col_heading level0 col2\" >SE</th> \n",
       "        <th class=\"col_heading level0 col3\" >cv</th> \n",
       "    </tr>    <tr> \n",
       "        <th class=\"index_name level0\" >month</th> \n",
       "        <th class=\"blank\" ></th> \n",
       "        <th class=\"blank\" ></th> \n",
       "        <th class=\"blank\" ></th> \n",
       "        <th class=\"blank\" ></th> \n",
       "    </tr></thead> \n",
       "<tbody>    <tr> \n",
       "        <th id=\"T_dc830168_28cd_11e9_a7a6_a860b638e912level0_row0\" class=\"row_heading level0 row0\" >1</th> \n",
       "        <td id=\"T_dc830168_28cd_11e9_a7a6_a860b638e912row0_col0\" class=\"data row0 col0\" >42.0</td> \n",
       "        <td id=\"T_dc830168_28cd_11e9_a7a6_a860b638e912row0_col1\" class=\"data row0 col1\" >30.0</td> \n",
       "        <td id=\"T_dc830168_28cd_11e9_a7a6_a860b638e912row0_col2\" class=\"data row0 col2\" >120.0</td> \n",
       "        <td id=\"T_dc830168_28cd_11e9_a7a6_a860b638e912row0_col3\" class=\"data row0 col3\" >128.0</td> \n",
       "    </tr>    <tr> \n",
       "        <th id=\"T_dc830168_28cd_11e9_a7a6_a860b638e912level0_row1\" class=\"row_heading level0 row1\" >2</th> \n",
       "        <td id=\"T_dc830168_28cd_11e9_a7a6_a860b638e912row1_col0\" class=\"data row1 col0\" >36.0</td> \n",
       "        <td id=\"T_dc830168_28cd_11e9_a7a6_a860b638e912row1_col1\" class=\"data row1 col1\" >41.0</td> \n",
       "        <td id=\"T_dc830168_28cd_11e9_a7a6_a860b638e912row1_col2\" class=\"data row1 col2\" >103.0</td> \n",
       "        <td id=\"T_dc830168_28cd_11e9_a7a6_a860b638e912row1_col3\" class=\"data row1 col3\" >133.5</td> \n",
       "    </tr>    <tr> \n",
       "        <th id=\"T_dc830168_28cd_11e9_a7a6_a860b638e912level0_row2\" class=\"row_heading level0 row2\" >3</th> \n",
       "        <td id=\"T_dc830168_28cd_11e9_a7a6_a860b638e912row2_col0\" class=\"data row2 col0\" >42.0</td> \n",
       "        <td id=\"T_dc830168_28cd_11e9_a7a6_a860b638e912row2_col1\" class=\"data row2 col1\" >23.0</td> \n",
       "        <td id=\"T_dc830168_28cd_11e9_a7a6_a860b638e912row2_col2\" class=\"data row2 col2\" >93.0</td> \n",
       "        <td id=\"T_dc830168_28cd_11e9_a7a6_a860b638e912row2_col3\" class=\"data row2 col3\" >116.0</td> \n",
       "    </tr>    <tr> \n",
       "        <th id=\"T_dc830168_28cd_11e9_a7a6_a860b638e912level0_row3\" class=\"row_heading level0 row3\" >4</th> \n",
       "        <td id=\"T_dc830168_28cd_11e9_a7a6_a860b638e912row3_col0\" class=\"data row3 col0\" >59.0</td> \n",
       "        <td id=\"T_dc830168_28cd_11e9_a7a6_a860b638e912row3_col1\" class=\"data row3 col1\" >24.0</td> \n",
       "        <td id=\"T_dc830168_28cd_11e9_a7a6_a860b638e912row3_col2\" class=\"data row3 col2\" >91.0</td> \n",
       "        <td id=\"T_dc830168_28cd_11e9_a7a6_a860b638e912row3_col3\" class=\"data row3 col3\" >84.0</td> \n",
       "    </tr>    <tr> \n",
       "        <th id=\"T_dc830168_28cd_11e9_a7a6_a860b638e912level0_row4\" class=\"row_heading level0 row4\" >5</th> \n",
       "        <td id=\"T_dc830168_28cd_11e9_a7a6_a860b638e912row4_col0\" class=\"data row4 col0\" >66.5</td> \n",
       "        <td id=\"T_dc830168_28cd_11e9_a7a6_a860b638e912row4_col1\" class=\"data row4 col1\" >38.0</td> \n",
       "        <td id=\"T_dc830168_28cd_11e9_a7a6_a860b638e912row4_col2\" class=\"data row4 col2\" >81.4</td> \n",
       "        <td id=\"T_dc830168_28cd_11e9_a7a6_a860b638e912row4_col3\" class=\"data row4 col3\" >80.0</td> \n",
       "    </tr>    <tr> \n",
       "        <th id=\"T_dc830168_28cd_11e9_a7a6_a860b638e912level0_row5\" class=\"row_heading level0 row5\" >6</th> \n",
       "        <td id=\"T_dc830168_28cd_11e9_a7a6_a860b638e912row5_col0\" class=\"data row5 col0\" >58.0</td> \n",
       "        <td id=\"T_dc830168_28cd_11e9_a7a6_a860b638e912row5_col1\" class=\"data row5 col1\" >38.0</td> \n",
       "        <td id=\"T_dc830168_28cd_11e9_a7a6_a860b638e912row5_col2\" class=\"data row5 col2\" >97.0</td> \n",
       "        <td id=\"T_dc830168_28cd_11e9_a7a6_a860b638e912row5_col3\" class=\"data row5 col3\" >88.0</td> \n",
       "    </tr>    <tr> \n",
       "        <th id=\"T_dc830168_28cd_11e9_a7a6_a860b638e912level0_row6\" class=\"row_heading level0 row6\" >7</th> \n",
       "        <td id=\"T_dc830168_28cd_11e9_a7a6_a860b638e912row6_col0\" class=\"data row6 col0\" >58.5</td> \n",
       "        <td id=\"T_dc830168_28cd_11e9_a7a6_a860b638e912row6_col1\" class=\"data row6 col1\" >35.0</td> \n",
       "        <td id=\"T_dc830168_28cd_11e9_a7a6_a860b638e912row6_col2\" class=\"data row6 col2\" >92.0</td> \n",
       "        <td id=\"T_dc830168_28cd_11e9_a7a6_a860b638e912row6_col3\" class=\"data row6 col3\" >83.5</td> \n",
       "    </tr>    <tr> \n",
       "        <th id=\"T_dc830168_28cd_11e9_a7a6_a860b638e912level0_row7\" class=\"row_heading level0 row7\" >8</th> \n",
       "        <td id=\"T_dc830168_28cd_11e9_a7a6_a860b638e912row7_col0\" class=\"data row7 col0\" >67.0</td> \n",
       "        <td id=\"T_dc830168_28cd_11e9_a7a6_a860b638e912row7_col1\" class=\"data row7 col1\" >36.0</td> \n",
       "        <td id=\"T_dc830168_28cd_11e9_a7a6_a860b638e912row7_col2\" class=\"data row7 col2\" >79.0</td> \n",
       "        <td id=\"T_dc830168_28cd_11e9_a7a6_a860b638e912row7_col3\" class=\"data row7 col3\" >82.0</td> \n",
       "    </tr>    <tr> \n",
       "        <th id=\"T_dc830168_28cd_11e9_a7a6_a860b638e912level0_row8\" class=\"row_heading level0 row8\" >9</th> \n",
       "        <td id=\"T_dc830168_28cd_11e9_a7a6_a860b638e912row8_col0\" class=\"data row8 col0\" >53.0</td> \n",
       "        <td id=\"T_dc830168_28cd_11e9_a7a6_a860b638e912row8_col1\" class=\"data row8 col1\" >34.0</td> \n",
       "        <td id=\"T_dc830168_28cd_11e9_a7a6_a860b638e912row8_col2\" class=\"data row8 col2\" >85.0</td> \n",
       "        <td id=\"T_dc830168_28cd_11e9_a7a6_a860b638e912row8_col3\" class=\"data row8 col3\" >84.0</td> \n",
       "    </tr>    <tr> \n",
       "        <th id=\"T_dc830168_28cd_11e9_a7a6_a860b638e912level0_row9\" class=\"row_heading level0 row9\" >10</th> \n",
       "        <td id=\"T_dc830168_28cd_11e9_a7a6_a860b638e912row9_col0\" class=\"data row9 col0\" >84.5</td> \n",
       "        <td id=\"T_dc830168_28cd_11e9_a7a6_a860b638e912row9_col1\" class=\"data row9 col1\" >38.0</td> \n",
       "        <td id=\"T_dc830168_28cd_11e9_a7a6_a860b638e912row9_col2\" class=\"data row9 col2\" >101.0</td> \n",
       "        <td id=\"T_dc830168_28cd_11e9_a7a6_a860b638e912row9_col3\" class=\"data row9 col3\" >111.0</td> \n",
       "    </tr>    <tr> \n",
       "        <th id=\"T_dc830168_28cd_11e9_a7a6_a860b638e912level0_row10\" class=\"row_heading level0 row10\" >11</th> \n",
       "        <td id=\"T_dc830168_28cd_11e9_a7a6_a860b638e912row10_col0\" class=\"data row10 col0\" >78.0</td> \n",
       "        <td id=\"T_dc830168_28cd_11e9_a7a6_a860b638e912row10_col1\" class=\"data row10 col1\" >33.0</td> \n",
       "        <td id=\"T_dc830168_28cd_11e9_a7a6_a860b638e912row10_col2\" class=\"data row10 col2\" >95.0</td> \n",
       "        <td id=\"T_dc830168_28cd_11e9_a7a6_a860b638e912row10_col3\" class=\"data row10 col3\" >130.0</td> \n",
       "    </tr>    <tr> \n",
       "        <th id=\"T_dc830168_28cd_11e9_a7a6_a860b638e912level0_row11\" class=\"row_heading level0 row11\" >12</th> \n",
       "        <td id=\"T_dc830168_28cd_11e9_a7a6_a860b638e912row11_col0\" class=\"data row11 col0\" >49.5</td> \n",
       "        <td id=\"T_dc830168_28cd_11e9_a7a6_a860b638e912row11_col1\" class=\"data row11 col1\" >23.0</td> \n",
       "        <td id=\"T_dc830168_28cd_11e9_a7a6_a860b638e912row11_col2\" class=\"data row11 col2\" >90.5</td> \n",
       "        <td id=\"T_dc830168_28cd_11e9_a7a6_a860b638e912row11_col3\" class=\"data row11 col3\" >128.0</td> \n",
       "    </tr></tbody> \n",
       "</table> "
      ],
      "text/plain": [
       "<pandas.io.formats.style.Styler at 0x117fe5eb8>"
      ]
     },
     "execution_count": 68,
     "metadata": {},
     "output_type": "execute_result"
    }
   ],
   "source": [
    "grouped = beijing.groupby([\"month\",\"cbwd\"])[\"model_pm2.5\"].median().unstack()\n",
    "grouped.style.format(\"{:.1f}\").highlight_max(axis=1,color=\"royalblue\").\\\n",
    "set_caption(\"Max Median by Month and Wind Direction\")"
   ]
  },
  {
   "cell_type": "code",
   "execution_count": 69,
   "metadata": {},
   "outputs": [],
   "source": [
    "del beijing"
   ]
  },
  {
   "cell_type": "markdown",
   "metadata": {},
   "source": [
    "## Expand Dataset & Redevelop Model<a class=\"anchor\" id=\"remodeldev\"></a>\n",
    "Will this model improve if Lagged Variables are Included? By how much?"
   ]
  },
  {
   "cell_type": "code",
   "execution_count": 70,
   "metadata": {},
   "outputs": [
    {
     "data": {
      "text/plain": [
       "(43824, 232)"
      ]
     },
     "execution_count": 70,
     "metadata": {},
     "output_type": "execute_result"
    }
   ],
   "source": [
    "beijing2 = pd.concat([beijing2,\n",
    "                      beijing2.drop(target, axis=1).shift().rename(lambda x: x+'_lag1',    axis=1),\n",
    "                      beijing2.drop(target, axis=1).shift(24).rename(lambda x: x+'_lag24', axis=1)\n",
    "                     ], axis=1)\n",
    "beijing2.shape"
   ]
  },
  {
   "cell_type": "code",
   "execution_count": 71,
   "metadata": {},
   "outputs": [],
   "source": [
    "beijing2 = beijing2.iloc[24:,:]"
   ]
  },
  {
   "cell_type": "code",
   "execution_count": 72,
   "metadata": {},
   "outputs": [],
   "source": [
    "is_target_missing = beijing2[target].isnull()"
   ]
  },
  {
   "cell_type": "code",
   "execution_count": 73,
   "metadata": {},
   "outputs": [],
   "source": [
    "X_pred = beijing2.loc[is_target_missing].drop(target,axis=1).values\n",
    "X_true = beijing2.loc[~is_target_missing].drop(target,axis=1).values"
   ]
  },
  {
   "cell_type": "code",
   "execution_count": 74,
   "metadata": {},
   "outputs": [],
   "source": [
    "y = beijing2.loc[~is_target_missing,target].values.astype('int32')"
   ]
  },
  {
   "cell_type": "code",
   "execution_count": 75,
   "metadata": {},
   "outputs": [],
   "source": [
    "scaler = RobustScaler()\n",
    "X_true = scaler.fit_transform(X_true)\n",
    "X_pred = scaler.transform(X_pred)"
   ]
  },
  {
   "cell_type": "markdown",
   "metadata": {},
   "source": [
    "### Random Forest Model<a class=\"anchor\" id=\"remodeldev_1\"></a>"
   ]
  },
  {
   "cell_type": "code",
   "execution_count": 76,
   "metadata": {},
   "outputs": [],
   "source": [
    "rf = RandomForestRegressor(n_estimators=300,max_depth=15,min_samples_leaf=30,random_state=19, max_features=75)"
   ]
  },
  {
   "cell_type": "code",
   "execution_count": 77,
   "metadata": {},
   "outputs": [
    {
     "name": "stdout",
     "output_type": "stream",
     "text": [
      "Time elapsed (hh:mm:ss.ms) 0:03:05.471159\n"
     ]
    }
   ],
   "source": [
    "t0 = datetime.now()\n",
    "\n",
    "oof = np.zeros(y.shape[0])\n",
    "for train, test in cv.split(X_true,y):\n",
    "    rf.fit(X_true[train], y[train])\n",
    "    oof[test] = rf.predict(X_true[test])\n",
    "    #rf.fit(X_true[train], np.log1p(y[train]))\n",
    "    #oof[test] = np.expm1(rf.predict(X_true[test]))\n",
    "\n",
    "print('Time elapsed (hh:mm:ss.ms) {}'.format(datetime.now() - t0))"
   ]
  },
  {
   "cell_type": "code",
   "execution_count": 78,
   "metadata": {},
   "outputs": [
    {
     "name": "stdout",
     "output_type": "stream",
     "text": [
      "msle 0.41635 R-square 0.5948\n"
     ]
    }
   ],
   "source": [
    "print(\"msle {:.5f}\".format(mean_squared_log_error(y,oof))+\n",
    "      \" R-square {:.4f}\".format(r2_score(y,oof)))"
   ]
  },
  {
   "cell_type": "markdown",
   "metadata": {},
   "source": [
    "Improved, but not by a lot!"
   ]
  },
  {
   "cell_type": "markdown",
   "metadata": {},
   "source": [
    "### Gradient Boosting Model<a class=\"anchor\" id=\"remodeldev_2\"></a>\n",
    "BEST FIT (R-square 0.8176)"
   ]
  },
  {
   "cell_type": "code",
   "execution_count": 79,
   "metadata": {},
   "outputs": [],
   "source": [
    "gb = GradientBoostingRegressor(n_estimators = 400, max_depth = 15, max_features = 75, subsample = 0.7, random_state=2019)"
   ]
  },
  {
   "cell_type": "code",
   "execution_count": 80,
   "metadata": {},
   "outputs": [
    {
     "name": "stdout",
     "output_type": "stream",
     "text": [
      "Time elapsed (hh:mm:ss.ms) 1:07:52.259229\n"
     ]
    }
   ],
   "source": [
    "t0 = datetime.now()\n",
    "\n",
    "oof = np.zeros(y.shape[0])\n",
    "for train, test in cv.split(X_true,y):\n",
    "    #gb.fit(X_true[train], y[train])\n",
    "    #oof[test] = np.maximum(gb.predict(X_true[test]),0)\n",
    "    gb.fit(X_true[train], np.log1p(y[train]))\n",
    "    oof[test] = np.expm1(gb.predict(X_true[test]))\n",
    "\n",
    "print('Time elapsed (hh:mm:ss.ms) {}'.format(datetime.now() - t0))"
   ]
  },
  {
   "cell_type": "code",
   "execution_count": 81,
   "metadata": {},
   "outputs": [
    {
     "data": {
      "text/html": [
       "<div>\n",
       "<style scoped>\n",
       "    .dataframe tbody tr th:only-of-type {\n",
       "        vertical-align: middle;\n",
       "    }\n",
       "\n",
       "    .dataframe tbody tr th {\n",
       "        vertical-align: top;\n",
       "    }\n",
       "\n",
       "    .dataframe thead th {\n",
       "        text-align: right;\n",
       "    }\n",
       "</style>\n",
       "<table border=\"1\" class=\"dataframe\">\n",
       "  <thead>\n",
       "    <tr style=\"text-align: right;\">\n",
       "      <th></th>\n",
       "      <th>var</th>\n",
       "      <th>fi</th>\n",
       "    </tr>\n",
       "  </thead>\n",
       "  <tbody>\n",
       "    <tr>\n",
       "      <th>157</th>\n",
       "      <td>Iws_lag24</td>\n",
       "      <td>0.054941</td>\n",
       "    </tr>\n",
       "    <tr>\n",
       "      <th>80</th>\n",
       "      <td>Iws_lag1</td>\n",
       "      <td>0.050583</td>\n",
       "    </tr>\n",
       "    <tr>\n",
       "      <th>3</th>\n",
       "      <td>Iws</td>\n",
       "      <td>0.050119</td>\n",
       "    </tr>\n",
       "    <tr>\n",
       "      <th>154</th>\n",
       "      <td>DEWP_lag24</td>\n",
       "      <td>0.044158</td>\n",
       "    </tr>\n",
       "    <tr>\n",
       "      <th>156</th>\n",
       "      <td>PRES_lag24</td>\n",
       "      <td>0.043724</td>\n",
       "    </tr>\n",
       "    <tr>\n",
       "      <th>155</th>\n",
       "      <td>TEMP_lag24</td>\n",
       "      <td>0.042701</td>\n",
       "    </tr>\n",
       "    <tr>\n",
       "      <th>0</th>\n",
       "      <td>DEWP</td>\n",
       "      <td>0.042540</td>\n",
       "    </tr>\n",
       "    <tr>\n",
       "      <th>77</th>\n",
       "      <td>DEWP_lag1</td>\n",
       "      <td>0.041814</td>\n",
       "    </tr>\n",
       "    <tr>\n",
       "      <th>78</th>\n",
       "      <td>TEMP_lag1</td>\n",
       "      <td>0.038517</td>\n",
       "    </tr>\n",
       "    <tr>\n",
       "      <th>1</th>\n",
       "      <td>TEMP</td>\n",
       "      <td>0.037629</td>\n",
       "    </tr>\n",
       "    <tr>\n",
       "      <th>2</th>\n",
       "      <td>PRES</td>\n",
       "      <td>0.037064</td>\n",
       "    </tr>\n",
       "    <tr>\n",
       "      <th>79</th>\n",
       "      <td>PRES_lag1</td>\n",
       "      <td>0.036220</td>\n",
       "    </tr>\n",
       "    <tr>\n",
       "      <th>151</th>\n",
       "      <td>cbwd_NW_lag1</td>\n",
       "      <td>0.008232</td>\n",
       "    </tr>\n",
       "    <tr>\n",
       "      <th>229</th>\n",
       "      <td>cbwd_SE_lag24</td>\n",
       "      <td>0.005922</td>\n",
       "    </tr>\n",
       "    <tr>\n",
       "      <th>152</th>\n",
       "      <td>cbwd_SE_lag1</td>\n",
       "      <td>0.005638</td>\n",
       "    </tr>\n",
       "  </tbody>\n",
       "</table>\n",
       "</div>"
      ],
      "text/plain": [
       "               var        fi\n",
       "157      Iws_lag24  0.054941\n",
       "80        Iws_lag1  0.050583\n",
       "3              Iws  0.050119\n",
       "154     DEWP_lag24  0.044158\n",
       "156     PRES_lag24  0.043724\n",
       "155     TEMP_lag24  0.042701\n",
       "0             DEWP  0.042540\n",
       "77       DEWP_lag1  0.041814\n",
       "78       TEMP_lag1  0.038517\n",
       "1             TEMP  0.037629\n",
       "2             PRES  0.037064\n",
       "79       PRES_lag1  0.036220\n",
       "151   cbwd_NW_lag1  0.008232\n",
       "229  cbwd_SE_lag24  0.005922\n",
       "152   cbwd_SE_lag1  0.005638"
      ]
     },
     "execution_count": 81,
     "metadata": {},
     "output_type": "execute_result"
    }
   ],
   "source": [
    "pd.DataFrame({'var':list(beijing2.drop(target,axis=1).columns),'fi':gb.feature_importances_}).\\\n",
    "sort_values(by=['fi'], ascending=False).head(15)"
   ]
  },
  {
   "cell_type": "code",
   "execution_count": 82,
   "metadata": {},
   "outputs": [
    {
     "name": "stdout",
     "output_type": "stream",
     "text": [
      " R-square 0.8219\n"
     ]
    }
   ],
   "source": [
    "print(#\"msle {:.5f}\".format(mean_squared_log_error(y,oof))+\n",
    "      \" R-square {:.4f}\".format(r2_score(y,oof)))"
   ]
  },
  {
   "cell_type": "markdown",
   "metadata": {},
   "source": [
    "<p> Not at all!\n",
    "<p> Dataset Expansion Is Not Worth The Effort."
   ]
  }
 ],
 "metadata": {
  "kernelspec": {
   "display_name": "Python 3",
   "language": "python",
   "name": "python3"
  },
  "language_info": {
   "codemirror_mode": {
    "name": "ipython",
    "version": 3
   },
   "file_extension": ".py",
   "mimetype": "text/x-python",
   "name": "python",
   "nbconvert_exporter": "python",
   "pygments_lexer": "ipython3",
   "version": "3.6.3"
  }
 },
 "nbformat": 4,
 "nbformat_minor": 2
}
