{
 "cells": [
  {
   "cell_type": "markdown",
   "metadata": {},
   "source": [
    "# Missing Imputation \n",
    "Using Pandas, Numpy, and sklearn"
   ]
  },
  {
   "cell_type": "code",
   "execution_count": 178,
   "metadata": {},
   "outputs": [],
   "source": [
    "import pandas as pd\n",
    "import numpy as np\n",
    "%matplotlib inline\n",
    "from sklearn.preprocessing import RobustScaler\n",
    "from sklearn.model_selection import KFold\n",
    "from sklearn.ensemble import GradientBoostingRegressor\n",
    "from sklearn.ensemble import RandomForestRegressor\n",
    "from sklearn.metrics import r2_score, mean_squared_log_error\n",
    "from sklearn.linear_model import LassoLarsCV"
   ]
  },
  {
   "cell_type": "markdown",
   "metadata": {},
   "source": [
    "### Load Data"
   ]
  },
  {
   "cell_type": "code",
   "execution_count": 135,
   "metadata": {},
   "outputs": [
    {
     "name": "stdout",
     "output_type": "stream",
     "text": [
      "<class 'pandas.core.frame.DataFrame'>\n",
      "RangeIndex: 43824 entries, 0 to 43823\n",
      "Data columns (total 13 columns):\n",
      "No       43824 non-null int64\n",
      "year     43824 non-null int64\n",
      "month    43824 non-null int64\n",
      "day      43824 non-null int64\n",
      "hour     43824 non-null int64\n",
      "pm2.5    41757 non-null float64\n",
      "DEWP     43824 non-null int64\n",
      "TEMP     43824 non-null float64\n",
      "PRES     43824 non-null float64\n",
      "cbwd     43824 non-null object\n",
      "Iws      43824 non-null float64\n",
      "Is       43824 non-null int64\n",
      "Ir       43824 non-null int64\n",
      "dtypes: float64(4), int64(8), object(1)\n",
      "memory usage: 4.3+ MB\n"
     ]
    }
   ],
   "source": [
    "beijing = pd.read_csv(\"https://raw.githubusercontent.com/jbrownlee/Datasets/master/pollution.csv\")\n",
    "beijing.info()"
   ]
  },
  {
   "cell_type": "markdown",
   "metadata": {},
   "source": [
    "### Data Transformations"
   ]
  },
  {
   "cell_type": "code",
   "execution_count": 136,
   "metadata": {},
   "outputs": [],
   "source": [
    "dropvars = ['No']\n",
    "target = 'pm2.5'"
   ]
  },
  {
   "cell_type": "code",
   "execution_count": 137,
   "metadata": {},
   "outputs": [],
   "source": [
    "is_target_missing = beijing[target].isnull()"
   ]
  },
  {
   "cell_type": "markdown",
   "metadata": {},
   "source": [
    "#### Convert Categorical to Numeric Using Dummies"
   ]
  },
  {
   "cell_type": "code",
   "execution_count": 138,
   "metadata": {},
   "outputs": [],
   "source": [
    "beijing = pd.get_dummies(beijing,columns=['year','month','day','hour','cbwd'], drop_first=True)"
   ]
  },
  {
   "cell_type": "code",
   "execution_count": 139,
   "metadata": {},
   "outputs": [],
   "source": [
    "beijing.drop(var_type['del'],axis=1,inplace=True)"
   ]
  },
  {
   "cell_type": "code",
   "execution_count": 144,
   "metadata": {},
   "outputs": [],
   "source": [
    "X_pred = beijing.loc[is_target_missing].drop(target,axis=1).values\n",
    "X_true = beijing.loc[~is_target_missing].drop(target,axis=1).values"
   ]
  },
  {
   "cell_type": "code",
   "execution_count": 145,
   "metadata": {},
   "outputs": [],
   "source": [
    "y = beijing.loc[~is_target_missing,target].values.astype('int32')"
   ]
  },
  {
   "cell_type": "markdown",
   "metadata": {},
   "source": [
    "#### Scale Predictors to Improve Estimation Efficiency"
   ]
  },
  {
   "cell_type": "code",
   "execution_count": 168,
   "metadata": {},
   "outputs": [],
   "source": [
    "scaler = RobustScaler()\n",
    "X_true = scaler.fit_transform(X_true)\n",
    "X_pred = scaler.transform(X_pred)"
   ]
  },
  {
   "cell_type": "code",
   "execution_count": 170,
   "metadata": {},
   "outputs": [],
   "source": [
    "cv = KFold(n_splits=5, shuffle=True, random_state=2019)"
   ]
  },
  {
   "cell_type": "markdown",
   "metadata": {},
   "source": [
    "## Model Selection\n",
    "### Random Forest"
   ]
  },
  {
   "cell_type": "code",
   "execution_count": 203,
   "metadata": {},
   "outputs": [],
   "source": [
    "rf = RandomForestRegressor(n_estimators=50,max_depth=15,min_samples_leaf=30,random_state=19)"
   ]
  },
  {
   "cell_type": "code",
   "execution_count": 204,
   "metadata": {},
   "outputs": [],
   "source": [
    "oof = np.zeros(y.shape[0])\n",
    "for train, test in cv.split(X_true,y):\n",
    "    rf.fit(X_true[train], y[train])\n",
    "    ypred = rf.predict(X_true[test])\n",
    "    oof[test] = ypred"
   ]
  },
  {
   "cell_type": "code",
   "execution_count": 205,
   "metadata": {},
   "outputs": [
    {
     "name": "stdout",
     "output_type": "stream",
     "text": [
      "msle 0.43419 R-square 0.5674\n"
     ]
    }
   ],
   "source": [
    "print(\"msle {:.5f}\".format(mean_squared_log_error(y,oof))+\n",
    "      \" R-square {:.4f}\".format(r2_score(y,oof)))"
   ]
  },
  {
   "cell_type": "markdown",
   "metadata": {},
   "source": [
    "### Lasso - Lars Regression\n",
    "Uses Log Transformation of Dependent Variable"
   ]
  },
  {
   "cell_type": "code",
   "execution_count": 212,
   "metadata": {},
   "outputs": [
    {
     "name": "stdout",
     "output_type": "stream",
     "text": [
      "msle 0.46569 R-square 0.3530\n"
     ]
    }
   ],
   "source": [
    "reg = LassoLarsCV(cv=10).fit(X_true, np.log1p(y))\n",
    "oof = np.expm1(reg.predict(X_true))\n",
    "print(\"msle {:.5f}\".format(mean_squared_log_error(y,oof))+\n",
    "      \" R-square {:.4f}\".format(r2_score(y,oof)))"
   ]
  },
  {
   "cell_type": "markdown",
   "metadata": {},
   "source": [
    "### Gradient Boosting Regression\n",
    "#### BEST FIT (R-square 0.7931)"
   ]
  },
  {
   "cell_type": "code",
   "execution_count": 252,
   "metadata": {},
   "outputs": [],
   "source": [
    "#gb = GradientBoostingRegressor(n_estimators = 150, max_depth = 12) ### Best Parameters with Log Transform\n",
    "#gb = GradientBoostingRegressor(n_estimators = 200, max_depth = 10) ### Best Parameters with No Transform\n",
    "gb = GradientBoostingRegressor(n_estimators = 200, max_depth = 10)"
   ]
  },
  {
   "cell_type": "code",
   "execution_count": 253,
   "metadata": {},
   "outputs": [],
   "source": [
    "oof = np.zeros(y.shape[0])\n",
    "for train, test in cv.split(X_true,y):\n",
    "    #gb.fit(X_true[train], np.log1p(y[train]))\n",
    "    #ypred = np.expm1(gb.predict(X_true[test]))\n",
    "    gb.fit(X_true[train], y[train])\n",
    "    ypred = np.maximum(gb.predict(X_true[test]),0)\n",
    "    oof[test] = ypred"
   ]
  },
  {
   "cell_type": "code",
   "execution_count": 254,
   "metadata": {},
   "outputs": [
    {
     "name": "stdout",
     "output_type": "stream",
     "text": [
      " R-square 0.8045\n"
     ]
    }
   ],
   "source": [
    "print(#\"msle {:.5f}\".format(mean_squared_log_error(y,oof))+\n",
    "      \" R-square {:.4f}\".format(r2_score(y,oof)))"
   ]
  },
  {
   "cell_type": "markdown",
   "metadata": {},
   "source": [
    "## Prediction of Missing Values"
   ]
  },
  {
   "cell_type": "code",
   "execution_count": 255,
   "metadata": {},
   "outputs": [],
   "source": [
    "new_y = np.zeros(beijing.shape[0])\n",
    "new_y[~is_target_missing] = y\n",
    "new_y[is_target_missing] = gb.predict(X_pred)"
   ]
  },
  {
   "cell_type": "code",
   "execution_count": 256,
   "metadata": {},
   "outputs": [],
   "source": [
    "beijing = pd.read_csv(\"https://raw.githubusercontent.com/jbrownlee/Datasets/master/pollution.csv\")\n",
    "beijing['model_pm2.5'] = new_y\n",
    "beijing.to_csv(\"beijing.csv\")"
   ]
  },
  {
   "cell_type": "markdown",
   "metadata": {},
   "source": [
    "### Verify Qualitative Behavior of Modeled Dependent Variable"
   ]
  },
  {
   "cell_type": "code",
   "execution_count": 257,
   "metadata": {},
   "outputs": [
    {
     "data": {
      "image/png": "[encoded data removed]",
      "text/plain": [
       "<matplotlib.figure.Figure at 0x11e264cf8>"
      ]
     },
     "metadata": {},
     "output_type": "display_data"
    }
   ],
   "source": [
    "ax = beijing.loc[beijing.hour==1].boxplot(\"model_pm2.5\",by=\"month\")"
   ]
  },
  {
   "cell_type": "code",
   "execution_count": 258,
   "metadata": {},
   "outputs": [
    {
     "data": {
      "text/html": [
       "<style  type=\"text/css\" >\n",
       "    #T_1c002ba4_275c_11e9_a26a_a860b638e912row0_col3 {\n",
       "            background-color:  royalblue;\n",
       "        }    #T_1c002ba4_275c_11e9_a26a_a860b638e912row1_col3 {\n",
       "            background-color:  royalblue;\n",
       "        }    #T_1c002ba4_275c_11e9_a26a_a860b638e912row2_col3 {\n",
       "            background-color:  royalblue;\n",
       "        }    #T_1c002ba4_275c_11e9_a26a_a860b638e912row3_col2 {\n",
       "            background-color:  royalblue;\n",
       "        }    #T_1c002ba4_275c_11e9_a26a_a860b638e912row4_col2 {\n",
       "            background-color:  royalblue;\n",
       "        }    #T_1c002ba4_275c_11e9_a26a_a860b638e912row5_col2 {\n",
       "            background-color:  royalblue;\n",
       "        }    #T_1c002ba4_275c_11e9_a26a_a860b638e912row6_col2 {\n",
       "            background-color:  royalblue;\n",
       "        }    #T_1c002ba4_275c_11e9_a26a_a860b638e912row7_col3 {\n",
       "            background-color:  royalblue;\n",
       "        }    #T_1c002ba4_275c_11e9_a26a_a860b638e912row8_col2 {\n",
       "            background-color:  royalblue;\n",
       "        }    #T_1c002ba4_275c_11e9_a26a_a860b638e912row8_col3 {\n",
       "            background-color:  royalblue;\n",
       "        }    #T_1c002ba4_275c_11e9_a26a_a860b638e912row9_col3 {\n",
       "            background-color:  royalblue;\n",
       "        }    #T_1c002ba4_275c_11e9_a26a_a860b638e912row10_col3 {\n",
       "            background-color:  royalblue;\n",
       "        }    #T_1c002ba4_275c_11e9_a26a_a860b638e912row11_col3 {\n",
       "            background-color:  royalblue;\n",
       "        }</style>  \n",
       "<table id=\"T_1c002ba4_275c_11e9_a26a_a860b638e912\" ><caption>Max Median by Month and Wind Direction</caption> \n",
       "<thead>    <tr> \n",
       "        <th class=\"index_name level0\" >cbwd</th> \n",
       "        <th class=\"col_heading level0 col0\" >NE</th> \n",
       "        <th class=\"col_heading level0 col1\" >NW</th> \n",
       "        <th class=\"col_heading level0 col2\" >SE</th> \n",
       "        <th class=\"col_heading level0 col3\" >cv</th> \n",
       "    </tr>    <tr> \n",
       "        <th class=\"index_name level0\" >month</th> \n",
       "        <th class=\"blank\" ></th> \n",
       "        <th class=\"blank\" ></th> \n",
       "        <th class=\"blank\" ></th> \n",
       "        <th class=\"blank\" ></th> \n",
       "    </tr></thead> \n",
       "<tbody>    <tr> \n",
       "        <th id=\"T_1c002ba4_275c_11e9_a26a_a860b638e912level0_row0\" class=\"row_heading level0 row0\" >1</th> \n",
       "        <td id=\"T_1c002ba4_275c_11e9_a26a_a860b638e912row0_col0\" class=\"data row0 col0\" >41.5</td> \n",
       "        <td id=\"T_1c002ba4_275c_11e9_a26a_a860b638e912row0_col1\" class=\"data row0 col1\" >30.0</td> \n",
       "        <td id=\"T_1c002ba4_275c_11e9_a26a_a860b638e912row0_col2\" class=\"data row0 col2\" >119.5</td> \n",
       "        <td id=\"T_1c002ba4_275c_11e9_a26a_a860b638e912row0_col3\" class=\"data row0 col3\" >128.0</td> \n",
       "    </tr>    <tr> \n",
       "        <th id=\"T_1c002ba4_275c_11e9_a26a_a860b638e912level0_row1\" class=\"row_heading level0 row1\" >2</th> \n",
       "        <td id=\"T_1c002ba4_275c_11e9_a26a_a860b638e912row1_col0\" class=\"data row1 col0\" >36.0</td> \n",
       "        <td id=\"T_1c002ba4_275c_11e9_a26a_a860b638e912row1_col1\" class=\"data row1 col1\" >41.0</td> \n",
       "        <td id=\"T_1c002ba4_275c_11e9_a26a_a860b638e912row1_col2\" class=\"data row1 col2\" >103.0</td> \n",
       "        <td id=\"T_1c002ba4_275c_11e9_a26a_a860b638e912row1_col3\" class=\"data row1 col3\" >133.5</td> \n",
       "    </tr>    <tr> \n",
       "        <th id=\"T_1c002ba4_275c_11e9_a26a_a860b638e912level0_row2\" class=\"row_heading level0 row2\" >3</th> \n",
       "        <td id=\"T_1c002ba4_275c_11e9_a26a_a860b638e912row2_col0\" class=\"data row2 col0\" >42.0</td> \n",
       "        <td id=\"T_1c002ba4_275c_11e9_a26a_a860b638e912row2_col1\" class=\"data row2 col1\" >23.0</td> \n",
       "        <td id=\"T_1c002ba4_275c_11e9_a26a_a860b638e912row2_col2\" class=\"data row2 col2\" >93.0</td> \n",
       "        <td id=\"T_1c002ba4_275c_11e9_a26a_a860b638e912row2_col3\" class=\"data row2 col3\" >118.0</td> \n",
       "    </tr>    <tr> \n",
       "        <th id=\"T_1c002ba4_275c_11e9_a26a_a860b638e912level0_row3\" class=\"row_heading level0 row3\" >4</th> \n",
       "        <td id=\"T_1c002ba4_275c_11e9_a26a_a860b638e912row3_col0\" class=\"data row3 col0\" >56.0</td> \n",
       "        <td id=\"T_1c002ba4_275c_11e9_a26a_a860b638e912row3_col1\" class=\"data row3 col1\" >24.0</td> \n",
       "        <td id=\"T_1c002ba4_275c_11e9_a26a_a860b638e912row3_col2\" class=\"data row3 col2\" >91.0</td> \n",
       "        <td id=\"T_1c002ba4_275c_11e9_a26a_a860b638e912row3_col3\" class=\"data row3 col3\" >84.0</td> \n",
       "    </tr>    <tr> \n",
       "        <th id=\"T_1c002ba4_275c_11e9_a26a_a860b638e912level0_row4\" class=\"row_heading level0 row4\" >5</th> \n",
       "        <td id=\"T_1c002ba4_275c_11e9_a26a_a860b638e912row4_col0\" class=\"data row4 col0\" >65.6</td> \n",
       "        <td id=\"T_1c002ba4_275c_11e9_a26a_a860b638e912row4_col1\" class=\"data row4 col1\" >38.0</td> \n",
       "        <td id=\"T_1c002ba4_275c_11e9_a26a_a860b638e912row4_col2\" class=\"data row4 col2\" >82.0</td> \n",
       "        <td id=\"T_1c002ba4_275c_11e9_a26a_a860b638e912row4_col3\" class=\"data row4 col3\" >79.0</td> \n",
       "    </tr>    <tr> \n",
       "        <th id=\"T_1c002ba4_275c_11e9_a26a_a860b638e912level0_row5\" class=\"row_heading level0 row5\" >6</th> \n",
       "        <td id=\"T_1c002ba4_275c_11e9_a26a_a860b638e912row5_col0\" class=\"data row5 col0\" >58.0</td> \n",
       "        <td id=\"T_1c002ba4_275c_11e9_a26a_a860b638e912row5_col1\" class=\"data row5 col1\" >38.5</td> \n",
       "        <td id=\"T_1c002ba4_275c_11e9_a26a_a860b638e912row5_col2\" class=\"data row5 col2\" >96.1</td> \n",
       "        <td id=\"T_1c002ba4_275c_11e9_a26a_a860b638e912row5_col3\" class=\"data row5 col3\" >88.0</td> \n",
       "    </tr>    <tr> \n",
       "        <th id=\"T_1c002ba4_275c_11e9_a26a_a860b638e912level0_row6\" class=\"row_heading level0 row6\" >7</th> \n",
       "        <td id=\"T_1c002ba4_275c_11e9_a26a_a860b638e912row6_col0\" class=\"data row6 col0\" >58.5</td> \n",
       "        <td id=\"T_1c002ba4_275c_11e9_a26a_a860b638e912row6_col1\" class=\"data row6 col1\" >35.0</td> \n",
       "        <td id=\"T_1c002ba4_275c_11e9_a26a_a860b638e912row6_col2\" class=\"data row6 col2\" >92.5</td> \n",
       "        <td id=\"T_1c002ba4_275c_11e9_a26a_a860b638e912row6_col3\" class=\"data row6 col3\" >83.5</td> \n",
       "    </tr>    <tr> \n",
       "        <th id=\"T_1c002ba4_275c_11e9_a26a_a860b638e912level0_row7\" class=\"row_heading level0 row7\" >8</th> \n",
       "        <td id=\"T_1c002ba4_275c_11e9_a26a_a860b638e912row7_col0\" class=\"data row7 col0\" >67.0</td> \n",
       "        <td id=\"T_1c002ba4_275c_11e9_a26a_a860b638e912row7_col1\" class=\"data row7 col1\" >36.0</td> \n",
       "        <td id=\"T_1c002ba4_275c_11e9_a26a_a860b638e912row7_col2\" class=\"data row7 col2\" >80.0</td> \n",
       "        <td id=\"T_1c002ba4_275c_11e9_a26a_a860b638e912row7_col3\" class=\"data row7 col3\" >82.0</td> \n",
       "    </tr>    <tr> \n",
       "        <th id=\"T_1c002ba4_275c_11e9_a26a_a860b638e912level0_row8\" class=\"row_heading level0 row8\" >9</th> \n",
       "        <td id=\"T_1c002ba4_275c_11e9_a26a_a860b638e912row8_col0\" class=\"data row8 col0\" >52.0</td> \n",
       "        <td id=\"T_1c002ba4_275c_11e9_a26a_a860b638e912row8_col1\" class=\"data row8 col1\" >34.0</td> \n",
       "        <td id=\"T_1c002ba4_275c_11e9_a26a_a860b638e912row8_col2\" class=\"data row8 col2\" >84.0</td> \n",
       "        <td id=\"T_1c002ba4_275c_11e9_a26a_a860b638e912row8_col3\" class=\"data row8 col3\" >84.0</td> \n",
       "    </tr>    <tr> \n",
       "        <th id=\"T_1c002ba4_275c_11e9_a26a_a860b638e912level0_row9\" class=\"row_heading level0 row9\" >10</th> \n",
       "        <td id=\"T_1c002ba4_275c_11e9_a26a_a860b638e912row9_col0\" class=\"data row9 col0\" >85.5</td> \n",
       "        <td id=\"T_1c002ba4_275c_11e9_a26a_a860b638e912row9_col1\" class=\"data row9 col1\" >38.0</td> \n",
       "        <td id=\"T_1c002ba4_275c_11e9_a26a_a860b638e912row9_col2\" class=\"data row9 col2\" >102.0</td> \n",
       "        <td id=\"T_1c002ba4_275c_11e9_a26a_a860b638e912row9_col3\" class=\"data row9 col3\" >111.0</td> \n",
       "    </tr>    <tr> \n",
       "        <th id=\"T_1c002ba4_275c_11e9_a26a_a860b638e912level0_row10\" class=\"row_heading level0 row10\" >11</th> \n",
       "        <td id=\"T_1c002ba4_275c_11e9_a26a_a860b638e912row10_col0\" class=\"data row10 col0\" >78.0</td> \n",
       "        <td id=\"T_1c002ba4_275c_11e9_a26a_a860b638e912row10_col1\" class=\"data row10 col1\" >33.0</td> \n",
       "        <td id=\"T_1c002ba4_275c_11e9_a26a_a860b638e912row10_col2\" class=\"data row10 col2\" >95.0</td> \n",
       "        <td id=\"T_1c002ba4_275c_11e9_a26a_a860b638e912row10_col3\" class=\"data row10 col3\" >130.0</td> \n",
       "    </tr>    <tr> \n",
       "        <th id=\"T_1c002ba4_275c_11e9_a26a_a860b638e912level0_row11\" class=\"row_heading level0 row11\" >12</th> \n",
       "        <td id=\"T_1c002ba4_275c_11e9_a26a_a860b638e912row11_col0\" class=\"data row11 col0\" >49.5</td> \n",
       "        <td id=\"T_1c002ba4_275c_11e9_a26a_a860b638e912row11_col1\" class=\"data row11 col1\" >23.0</td> \n",
       "        <td id=\"T_1c002ba4_275c_11e9_a26a_a860b638e912row11_col2\" class=\"data row11 col2\" >91.0</td> \n",
       "        <td id=\"T_1c002ba4_275c_11e9_a26a_a860b638e912row11_col3\" class=\"data row11 col3\" >126.0</td> \n",
       "    </tr></tbody> \n",
       "</table> "
      ],
      "text/plain": [
       "<pandas.io.formats.style.Styler at 0x11e24e588>"
      ]
     },
     "execution_count": 258,
     "metadata": {},
     "output_type": "execute_result"
    }
   ],
   "source": [
    "grouped = beijing.groupby([\"month\",\"cbwd\"])[\"model_pm2.5\"].median().unstack()\n",
    "grouped.style.format(\"{:.1f}\").highlight_max(axis=1,color=\"royalblue\").\\\n",
    "set_caption(\"Max Median by Month and Wind Direction\")"
   ]
  },
  {
   "cell_type": "code",
   "execution_count": null,
   "metadata": {},
   "outputs": [],
   "source": []
  }
 ],
 "metadata": {
  "kernelspec": {
   "display_name": "Python 3",
   "language": "python",
   "name": "python3"
  },
  "language_info": {
   "codemirror_mode": {
    "name": "ipython",
    "version": 3
   },
   "file_extension": ".py",
   "mimetype": "text/x-python",
   "name": "python",
   "nbconvert_exporter": "python",
   "pygments_lexer": "ipython3",
   "version": "3.6.3"
  }
 },
 "nbformat": 4,
 "nbformat_minor": 2
}
